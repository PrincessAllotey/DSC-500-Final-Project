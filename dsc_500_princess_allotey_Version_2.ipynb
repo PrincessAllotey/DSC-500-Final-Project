{
  "nbformat": 4,
  "nbformat_minor": 0,
  "metadata": {
    "colab": {
      "name": "dsc_500_princess_allotey_Version_3.ipynb",
      "provenance": [],
      "collapsed_sections": [
        "DZdlrID9Lqwg",
        "PQF_poZQLyN8"
      ],
      "toc_visible": true
    },
    "kernelspec": {
      "name": "python3",
      "display_name": "Python 3"
    }
  },
  "cells": [
    {
      "cell_type": "markdown",
      "metadata": {
        "id": "ECo2qqyaE-Jn"
      },
      "source": [
        "# Importing Needed Libraries"
      ]
    },
    {
      "cell_type": "code",
      "metadata": {
        "id": "KzqiJfhxlUzD",
        "colab": {
          "base_uri": "https://localhost:8080/"
        },
        "outputId": "64c0ec5b-579f-4873-b304-8939bdaef4ab"
      },
      "source": [
        "import pandas as pd\n",
        "import numpy as np\n",
        "import matplotlib.pyplot as plt\n",
        "import seaborn as sns\n",
        "from datetime import datetime, timedelta\n",
        "import datetime as dt\n",
        "from google.colab import drive, files\n",
        "drive.mount('/content/drive')\n",
        "import nltk.corpus\n",
        "from nltk.tokenize import word_tokenize #tokenization\n",
        "nltk.download('punkt')\n",
        "import nltk #to handle natural language processing\n",
        "from nltk.corpus import stopwords\n",
        "from nltk.tokenize import word_tokenize\n",
        "from nltk.classify.scikitlearn import SklearnClassifier\n",
        "nltk.download('stopwords')\n",
        "nltk.download('punkt')\n",
        "from sklearn import model_selection\n",
        "from sklearn.neighbors import KNeighborsClassifier\n",
        "from sklearn.preprocessing import LabelEncoder #convert class labels to binary\n",
        "from sklearn.tree import DecisionTreeClassifier\n",
        "from sklearn.ensemble import RandomForestClassifier\n",
        "from sklearn.linear_model import LogisticRegression, SGDClassifier\n",
        "from sklearn.naive_bayes import MultinomialNB\n",
        "from sklearn.svm import SVC\n",
        "from sklearn.metrics import classification_report, accuracy_score, confusion_matrix\n",
        "from sklearn.ensemble import VotingClassifier\n",
        "from sklearn.linear_model import LinearRegression #import LinearRegression from sklearn for question on Linear Regression models\n",
        "from sklearn.model_selection import train_test_split #import train_test_split from sklearn to split the data to training and test data\n",
        "from nltk.util import bigrams, trigrams,ngrams\n",
        "from nltk.stem import wordnet\n",
        "from nltk.stem import WordNetLemmatizer\n",
        "from pandas import DataFrame\n",
        "from nltk.stem import PorterStemmer\n",
        "from sklearn.preprocessing import MinMaxScaler\n",
        "from sklearn.metrics import roc_auc_score #imported to measure the auc score\n",
        "from nltk.probability import FreqDist\n",
        "from nltk.corpus import stopwords\n",
        "import re\n",
        "from nltk import ne_chunk"
      ],
      "execution_count": null,
      "outputs": [
        {
          "output_type": "stream",
          "text": [
            "Mounted at /content/drive\n",
            "[nltk_data] Downloading package punkt to /root/nltk_data...\n",
            "[nltk_data]   Unzipping tokenizers/punkt.zip.\n",
            "[nltk_data] Downloading package stopwords to /root/nltk_data...\n",
            "[nltk_data]   Unzipping corpora/stopwords.zip.\n",
            "[nltk_data] Downloading package punkt to /root/nltk_data...\n",
            "[nltk_data]   Package punkt is already up-to-date!\n"
          ],
          "name": "stdout"
        }
      ]
    },
    {
      "cell_type": "markdown",
      "metadata": {
        "id": "2F6ygl3Ml0Sj"
      },
      "source": [
        "# Discovering and Preparing Needed Data "
      ]
    },
    {
      "cell_type": "markdown",
      "metadata": {
        "id": "NCvyiKjPLnfu"
      },
      "source": [
        "##Data Discovery: Loading Datasets"
      ]
    },
    {
      "cell_type": "code",
      "metadata": {
        "id": "bxkVyQFlwgTP",
        "colab": {
          "base_uri": "https://localhost:8080/"
        },
        "outputId": "a27f64aa-e133-44a9-b21e-6a252be4dcb9"
      },
      "source": [
        "#main_dataframe\n",
        "# patientdata = pd.read_csv(\"latestdata.csv\")\n",
        "patientdata = pd.read_csv(\"/content/drive/My Drive/DSC 500 Datasets/latestdata.csv\")\n",
        "# files.download(\"latestdata.csv\")\n",
        "patientdata.head()\n",
        "patientdata.shape\n",
        "# patientdata[\"chronic_disease\"].unique()"
      ],
      "execution_count": null,
      "outputs": [
        {
          "output_type": "stream",
          "text": [
            "/usr/local/lib/python3.6/dist-packages/IPython/core/interactiveshell.py:2718: DtypeWarning: Columns (1,2,9,10,12,13,14,15,16,17,19,20,21,22,23,24,25,26,27,31,32) have mixed types.Specify dtype option on import or set low_memory=False.\n",
            "  interactivity=interactivity, compiler=compiler, result=result)\n"
          ],
          "name": "stderr"
        },
        {
          "output_type": "execute_result",
          "data": {
            "text/plain": [
              "(2676311, 33)"
            ]
          },
          "metadata": {
            "tags": []
          },
          "execution_count": 2
        }
      ]
    },
    {
      "cell_type": "markdown",
      "metadata": {
        "id": "XVhXEB_OBm4v"
      },
      "source": [
        "## Data Conditioning: Cleaning Dataset for exploration"
      ]
    },
    {
      "cell_type": "code",
      "metadata": {
        "id": "BxgZ1t5TBmHv",
        "colab": {
          "base_uri": "https://localhost:8080/",
          "height": 395
        },
        "outputId": "972ebd26-d793-441c-b8ad-536f4edb72d5"
      },
      "source": [
        "#lowercase all str\n",
        "patientdata = patientdata.apply(lambda x: x.astype(str).str.lower() if(x.dtype == 'object') else x)\n",
        "patientdata.head()"
      ],
      "execution_count": null,
      "outputs": [
        {
          "output_type": "execute_result",
          "data": {
            "text/html": [
              "<div>\n",
              "<style scoped>\n",
              "    .dataframe tbody tr th:only-of-type {\n",
              "        vertical-align: middle;\n",
              "    }\n",
              "\n",
              "    .dataframe tbody tr th {\n",
              "        vertical-align: top;\n",
              "    }\n",
              "\n",
              "    .dataframe thead th {\n",
              "        text-align: right;\n",
              "    }\n",
              "</style>\n",
              "<table border=\"1\" class=\"dataframe\">\n",
              "  <thead>\n",
              "    <tr style=\"text-align: right;\">\n",
              "      <th></th>\n",
              "      <th>ID</th>\n",
              "      <th>age</th>\n",
              "      <th>sex</th>\n",
              "      <th>city</th>\n",
              "      <th>province</th>\n",
              "      <th>country</th>\n",
              "      <th>latitude</th>\n",
              "      <th>longitude</th>\n",
              "      <th>geo_resolution</th>\n",
              "      <th>date_onset_symptoms</th>\n",
              "      <th>date_admission_hospital</th>\n",
              "      <th>date_confirmation</th>\n",
              "      <th>symptoms</th>\n",
              "      <th>lives_in_Wuhan</th>\n",
              "      <th>travel_history_dates</th>\n",
              "      <th>travel_history_location</th>\n",
              "      <th>reported_market_exposure</th>\n",
              "      <th>additional_information</th>\n",
              "      <th>chronic_disease_binary</th>\n",
              "      <th>chronic_disease</th>\n",
              "      <th>source</th>\n",
              "      <th>sequence_available</th>\n",
              "      <th>outcome</th>\n",
              "      <th>date_death_or_discharge</th>\n",
              "      <th>notes_for_discussion</th>\n",
              "      <th>location</th>\n",
              "      <th>admin3</th>\n",
              "      <th>admin2</th>\n",
              "      <th>admin1</th>\n",
              "      <th>country_new</th>\n",
              "      <th>admin_id</th>\n",
              "      <th>data_moderator_initials</th>\n",
              "      <th>travel_history_binary</th>\n",
              "    </tr>\n",
              "  </thead>\n",
              "  <tbody>\n",
              "    <tr>\n",
              "      <th>0</th>\n",
              "      <td>000-1-1</td>\n",
              "      <td>nan</td>\n",
              "      <td>male</td>\n",
              "      <td>shek lei</td>\n",
              "      <td>hong kong</td>\n",
              "      <td>china</td>\n",
              "      <td>22.365019</td>\n",
              "      <td>114.133808</td>\n",
              "      <td>point</td>\n",
              "      <td>nan</td>\n",
              "      <td>nan</td>\n",
              "      <td>14.02.2020</td>\n",
              "      <td>nan</td>\n",
              "      <td>nan</td>\n",
              "      <td>22.01.2020</td>\n",
              "      <td>china</td>\n",
              "      <td>nan</td>\n",
              "      <td>case 55; mainland china travel via the lok ma ...</td>\n",
              "      <td>False</td>\n",
              "      <td>nan</td>\n",
              "      <td>https://www.scmp.com/news/hong-kong/health-env...</td>\n",
              "      <td>nan</td>\n",
              "      <td>critical condition, intubated as of 14.02.2020</td>\n",
              "      <td>nan</td>\n",
              "      <td>nan</td>\n",
              "      <td>shek lei</td>\n",
              "      <td>nan</td>\n",
              "      <td>nan</td>\n",
              "      <td>hong kong</td>\n",
              "      <td>china</td>\n",
              "      <td>8029.0</td>\n",
              "      <td>nan</td>\n",
              "      <td>nan</td>\n",
              "    </tr>\n",
              "    <tr>\n",
              "      <th>1</th>\n",
              "      <td>000-1-10</td>\n",
              "      <td>78</td>\n",
              "      <td>male</td>\n",
              "      <td>vo euganeo</td>\n",
              "      <td>veneto</td>\n",
              "      <td>italy</td>\n",
              "      <td>45.297748</td>\n",
              "      <td>11.658382</td>\n",
              "      <td>point</td>\n",
              "      <td>nan</td>\n",
              "      <td>nan</td>\n",
              "      <td>21.02.2020</td>\n",
              "      <td>nan</td>\n",
              "      <td>nan</td>\n",
              "      <td>nan</td>\n",
              "      <td>nan</td>\n",
              "      <td>nan</td>\n",
              "      <td>hospitalized on 12.02.2020 for other reasons</td>\n",
              "      <td>False</td>\n",
              "      <td>nan</td>\n",
              "      <td>https://www.corriere.it/cronache/20_febbraio_2...</td>\n",
              "      <td>nan</td>\n",
              "      <td>death</td>\n",
              "      <td>22.02.2020</td>\n",
              "      <td>nan</td>\n",
              "      <td>vo' euganeo</td>\n",
              "      <td>nan</td>\n",
              "      <td>nan</td>\n",
              "      <td>veneto</td>\n",
              "      <td>italy</td>\n",
              "      <td>8954.0</td>\n",
              "      <td>nan</td>\n",
              "      <td>nan</td>\n",
              "    </tr>\n",
              "    <tr>\n",
              "      <th>2</th>\n",
              "      <td>000-1-100</td>\n",
              "      <td>61</td>\n",
              "      <td>female</td>\n",
              "      <td>nan</td>\n",
              "      <td>nan</td>\n",
              "      <td>singapore</td>\n",
              "      <td>1.353460</td>\n",
              "      <td>103.815100</td>\n",
              "      <td>admin0</td>\n",
              "      <td>nan</td>\n",
              "      <td>nan</td>\n",
              "      <td>14.02.2020</td>\n",
              "      <td>nan</td>\n",
              "      <td>nan</td>\n",
              "      <td>nan</td>\n",
              "      <td>nan</td>\n",
              "      <td>nan</td>\n",
              "      <td>case 65; family member of case 50, a dbs emplo...</td>\n",
              "      <td>False</td>\n",
              "      <td>nan</td>\n",
              "      <td>https://www.channelnewsasia.com/news/singapore...</td>\n",
              "      <td>nan</td>\n",
              "      <td>discharge</td>\n",
              "      <td>17.02.2020</td>\n",
              "      <td>nan</td>\n",
              "      <td>nan</td>\n",
              "      <td>nan</td>\n",
              "      <td>nan</td>\n",
              "      <td>nan</td>\n",
              "      <td>singapore</td>\n",
              "      <td>200.0</td>\n",
              "      <td>nan</td>\n",
              "      <td>nan</td>\n",
              "    </tr>\n",
              "    <tr>\n",
              "      <th>3</th>\n",
              "      <td>000-1-1000</td>\n",
              "      <td>nan</td>\n",
              "      <td>nan</td>\n",
              "      <td>zhengzhou city</td>\n",
              "      <td>henan</td>\n",
              "      <td>china</td>\n",
              "      <td>34.629310</td>\n",
              "      <td>113.468000</td>\n",
              "      <td>admin2</td>\n",
              "      <td>nan</td>\n",
              "      <td>nan</td>\n",
              "      <td>26.01.2020</td>\n",
              "      <td>nan</td>\n",
              "      <td>nan</td>\n",
              "      <td>nan</td>\n",
              "      <td>nan</td>\n",
              "      <td>nan</td>\n",
              "      <td>nan</td>\n",
              "      <td>False</td>\n",
              "      <td>nan</td>\n",
              "      <td>https://news.163.com/special/epidemic/?spssid=...</td>\n",
              "      <td>nan</td>\n",
              "      <td>nan</td>\n",
              "      <td>nan</td>\n",
              "      <td>nan</td>\n",
              "      <td>nan</td>\n",
              "      <td>nan</td>\n",
              "      <td>zhengzhou city</td>\n",
              "      <td>henan</td>\n",
              "      <td>china</td>\n",
              "      <td>10091.0</td>\n",
              "      <td>nan</td>\n",
              "      <td>nan</td>\n",
              "    </tr>\n",
              "    <tr>\n",
              "      <th>4</th>\n",
              "      <td>000-1-10000</td>\n",
              "      <td>nan</td>\n",
              "      <td>nan</td>\n",
              "      <td>pingxiang city</td>\n",
              "      <td>jiangxi</td>\n",
              "      <td>china</td>\n",
              "      <td>27.513560</td>\n",
              "      <td>113.902900</td>\n",
              "      <td>admin2</td>\n",
              "      <td>nan</td>\n",
              "      <td>nan</td>\n",
              "      <td>14.02.2020</td>\n",
              "      <td>nan</td>\n",
              "      <td>nan</td>\n",
              "      <td>nan</td>\n",
              "      <td>nan</td>\n",
              "      <td>nan</td>\n",
              "      <td>nan</td>\n",
              "      <td>False</td>\n",
              "      <td>nan</td>\n",
              "      <td>http://hc.jiangxi.gov.cn/doc/2020/02/15/138898...</td>\n",
              "      <td>nan</td>\n",
              "      <td>nan</td>\n",
              "      <td>nan</td>\n",
              "      <td>nan</td>\n",
              "      <td>nan</td>\n",
              "      <td>nan</td>\n",
              "      <td>pingxiang city</td>\n",
              "      <td>jiangxi</td>\n",
              "      <td>china</td>\n",
              "      <td>7060.0</td>\n",
              "      <td>nan</td>\n",
              "      <td>nan</td>\n",
              "    </tr>\n",
              "  </tbody>\n",
              "</table>\n",
              "</div>"
            ],
            "text/plain": [
              "            ID  age  ... data_moderator_initials travel_history_binary\n",
              "0      000-1-1  nan  ...                     nan                   nan\n",
              "1     000-1-10   78  ...                     nan                   nan\n",
              "2    000-1-100   61  ...                     nan                   nan\n",
              "3   000-1-1000  nan  ...                     nan                   nan\n",
              "4  000-1-10000  nan  ...                     nan                   nan\n",
              "\n",
              "[5 rows x 33 columns]"
            ]
          },
          "metadata": {
            "tags": []
          },
          "execution_count": 3
        }
      ]
    },
    {
      "cell_type": "code",
      "metadata": {
        "id": "VEN43gpGHWXB"
      },
      "source": [
        "#reverse the nan to np.nan\n",
        "patientdata.replace({\"nan\":np.nan}, inplace=True)"
      ],
      "execution_count": null,
      "outputs": []
    },
    {
      "cell_type": "code",
      "metadata": {
        "id": "m0468WxdL_Lb",
        "colab": {
          "base_uri": "https://localhost:8080/"
        },
        "outputId": "c52c97fe-861a-4653-b210-411b252b8989"
      },
      "source": [
        "#checking for duplicates\n",
        "old_length = len(patientdata)\n",
        "patientdata = patientdata.drop_duplicates(keep = 'first', inplace = False)\n",
        "print(\"There are\", len(patientdata) - old_length, \"duplicate rows in this dataset.\")"
      ],
      "execution_count": null,
      "outputs": [
        {
          "output_type": "stream",
          "text": [
            "There are 0 duplicate rows in this dataset.\n"
          ],
          "name": "stdout"
        }
      ]
    },
    {
      "cell_type": "code",
      "metadata": {
        "id": "kKv6cO-NOx4E"
      },
      "source": [
        "#drop unneeded columns:\n",
        "patientdata = patientdata.drop(columns=['latitude','longitude','geo_resolution',\n",
        "                                        'source','sequence_available','admin3','admin2',\n",
        "                                        'admin1','admin_id','data_moderator_initials'])"
      ],
      "execution_count": null,
      "outputs": []
    },
    {
      "cell_type": "code",
      "metadata": {
        "id": "nsdjvpO1H-gw",
        "colab": {
          "base_uri": "https://localhost:8080/"
        },
        "outputId": "899f70ea-0872-485a-a68e-cae13f11292e"
      },
      "source": [
        "#check percent of missing values per column\n",
        "print(\"Percentage of missing values per column\")\n",
        "for i in patientdata.columns:\n",
        "  print(i, \":\",round((patientdata[i].isna().sum()/len(patientdata))*100,2),\"%\") "
      ],
      "execution_count": null,
      "outputs": [
        {
          "output_type": "stream",
          "text": [
            "Percentage of missing values per column\n",
            "ID : 0.0 %\n",
            "age : 78.4 %\n",
            "sex : 78.32 %\n",
            "city : 36.53 %\n",
            "province : 16.91 %\n",
            "country : 0.0 %\n",
            "date_onset_symptoms : 90.23 %\n",
            "date_admission_hospital : 95.66 %\n",
            "date_confirmation : 4.05 %\n",
            "symptoms : 99.92 %\n",
            "lives_in_Wuhan : 99.84 %\n",
            "travel_history_dates : 99.9 %\n",
            "travel_history_location : 99.66 %\n",
            "reported_market_exposure : 99.96 %\n",
            "additional_information : 98.29 %\n",
            "chronic_disease_binary : 0.0 %\n",
            "chronic_disease : 99.99 %\n",
            "outcome : 88.51 %\n",
            "date_death_or_discharge : 99.88 %\n",
            "notes_for_discussion : 99.98 %\n",
            "location : 99.5 %\n",
            "country_new : 1.14 %\n",
            "travel_history_binary : 2.45 %\n"
          ],
          "name": "stdout"
        }
      ]
    },
    {
      "cell_type": "markdown",
      "metadata": {
        "id": "IGPMaq31A9RT"
      },
      "source": [
        "## Survey and Visualise: Representation in Patients Dataset"
      ]
    },
    {
      "cell_type": "code",
      "metadata": {
        "id": "jXbe52ImfnEp",
        "colab": {
          "base_uri": "https://localhost:8080/"
        },
        "outputId": "782b5dc7-fb81-4c42-ba27-9beb6835a4b4"
      },
      "source": [
        "print(\"The dataset has\", patientdata.shape[0], \n",
        "      \"rows of data on individuals COVID patients with ID numbers ranging from\",\n",
        "      patientdata[\"ID\"].unique()[0], \"to\", patientdata[\"ID\"].unique()[-1],\"\\nThe number of countries represented are\" ,len(patientdata[\"country\"].unique()))"
      ],
      "execution_count": null,
      "outputs": [
        {
          "output_type": "stream",
          "text": [
            "The dataset has 2676311 rows of data on individuals COVID patients with ID numbers ranging from 000-1-1 to 010-99999 \n",
            "The number of countries represented are 147\n"
          ],
          "name": "stdout"
        }
      ]
    },
    {
      "cell_type": "markdown",
      "metadata": {
        "id": "2SD_KKdBZWfA"
      },
      "source": [
        "### Age"
      ]
    },
    {
      "cell_type": "code",
      "metadata": {
        "id": "2zJlnMHYZUHP",
        "colab": {
          "base_uri": "https://localhost:8080/",
          "height": 279
        },
        "outputId": "81136c9c-b747-49e1-969d-3281c65f777b"
      },
      "source": [
        "#still do representation of the non-conventional dataset\n",
        "ax = sns.countplot(x=\"age\",data=patientdata) #not looking very nice"
      ],
      "execution_count": null,
      "outputs": [
        {
          "output_type": "display_data",
          "data": {
            "image/png": "[encoded data removed]",
            "text/plain": [
              "<Figure size 432x288 with 1 Axes>"
            ]
          },
          "metadata": {
            "tags": [],
            "needs_background": "light"
          }
        }
      ]
    },
    {
      "cell_type": "code",
      "metadata": {
        "id": "3WmQOXVnbf-i",
        "colab": {
          "base_uri": "https://localhost:8080/"
        },
        "outputId": "f6359edf-a7cf-438f-f6e2-5999d802407e"
      },
      "source": [
        "#coerce the age column:\n",
        "patientdata_age = patientdata.copy()\n",
        "patientdata_age[\"age\"] = pd.to_numeric(patientdata[\"age\"], errors='coerce')\n",
        "\n",
        "#removing missing values\n",
        "patientdata_age.drop(patientdata_age.loc[patientdata_age['age'].isna()].index, inplace=True)\n",
        "patientdata_age[\"age\"] = patientdata_age[\"age\"].astype(int)\n",
        "patientdata_age[\"age\"].unique()\n",
        "#bin ages\n",
        "patientdata_age['age_bins'] = pd.cut(x=patientdata_age['age'], \n",
        "                                                  bins=[0,9,19,29, 39, 49,59,69,79,89,99])\n",
        "patientdata_age[\"age_bins\"].unique()\n",
        "\n",
        "#missing data\n",
        "print(round((patientdata_age[\"age\"].isna().sum()/len(patientdata_age))*100,2),\"%\",\n",
        "      \"of the patient data on age was missing after the data was cleaned. Therefore,\", \n",
        "      round(((100-round((patientdata_age[\"age\"].isna().sum()/len(patientdata_age))*100,2))/100)*len(patientdata_age),0),\n",
        "      \"patient data on age was represented.\")"
      ],
      "execution_count": null,
      "outputs": [
        {
          "output_type": "stream",
          "text": [
            "0.0 % of the patient data on age was missing after the data was cleaned. Therefore, 338490.0 patient data on age was represented.\n"
          ],
          "name": "stdout"
        }
      ]
    },
    {
      "cell_type": "code",
      "metadata": {
        "id": "WhWESdGhega4",
        "colab": {
          "base_uri": "https://localhost:8080/",
          "height": 554
        },
        "outputId": "4c253609-efa3-4fe1-a45d-af8e9ae831fb"
      },
      "source": [
        "#now graph again\n",
        "sns.set(rc={'figure.figsize':(25,15)})\n",
        "sns.set(font_scale=2.8)\n",
        "sns.set(rc = {'figure.facecolor':'white'})\n",
        "ax = sns.countplot(x=\"age_bins\",data=patientdata_age,palette=[\"#00c3b1\",\"#6ce6da\"],\n",
        "                   label = \"big\") \n"
      ],
      "execution_count": null,
      "outputs": [
        {
          "output_type": "display_data",
          "data": {
            "image/png": "[encoded data removed]",
            "text/plain": [
              "<Figure size 1800x1080 with 1 Axes>"
            ]
          },
          "metadata": {
            "tags": []
          }
        }
      ]
    },
    {
      "cell_type": "markdown",
      "metadata": {
        "id": "JkRlJFjpgMmh"
      },
      "source": [
        "### Sex"
      ]
    },
    {
      "cell_type": "code",
      "metadata": {
        "id": "CPdx9SElgSNO",
        "colab": {
          "base_uri": "https://localhost:8080/",
          "height": 570
        },
        "outputId": "173ec175-439b-4a0f-c143-b5f70c26a9e4"
      },
      "source": [
        "#missing data \n",
        "print(\"Data for sex of patients was missing for\",\n",
        "      round((patientdata[\"sex\"].isna().sum()/len(patientdata))*100,2),\"% of the patients.\") \n",
        "\n",
        "#current representation on sex\n",
        "patientdata_sex = patientdata.copy()\n",
        "patientdata_sex.dropna(subset=[\"sex\"],inplace=True)\n",
        "patientdata_sex['sex'] = patientdata_sex['sex'].astype(str)\n",
        "patientdata_sex.head()\n",
        "patientdata_sex[\"sex\"].unique()\n",
        "\n",
        "#piechart\n",
        "# Pie chart, where the slices will be ordered and plotted counter-clockwise:\n",
        "plt.rcParams['font.size'] = 25.0\n",
        "labels = patientdata_sex[\"sex\"].unique()\n",
        "sizes = patientdata_sex[\"sex\"].value_counts()\n",
        "explode = (0, 0.1)  # only \"explode\" the 2nd slice (i.e. 'Hogs')\n",
        "fig1, ax1 = plt.subplots()\n",
        "ax1.pie(sizes, explode=explode, labels=labels, shadow=True, startangle=90,\n",
        "        autopct='%1.1f%%')\n",
        "ax1.axis('equal')  # Equal aspect ratio ensures that pie is drawn as a circle.\n",
        "plt.show()\n",
        "\n",
        "#expand on what this article says for men against women for covid: https://www.ncbi.nlm.nih.gov/pmc/articles/PMC7271824/"
      ],
      "execution_count": null,
      "outputs": [
        {
          "output_type": "stream",
          "text": [
            "Data for sex of patients was missing for 78.32 % of the patients.\n"
          ],
          "name": "stdout"
        },
        {
          "output_type": "display_data",
          "data": {
            "image/png": "[encoded data removed]",
            "text/plain": [
              "<Figure size 1800x1080 with 1 Axes>"
            ]
          },
          "metadata": {
            "tags": []
          }
        }
      ]
    },
    {
      "cell_type": "markdown",
      "metadata": {
        "id": "rHserck6n2kB"
      },
      "source": [
        "### Country"
      ]
    },
    {
      "cell_type": "code",
      "metadata": {
        "id": "T-sg5pDCQp1-",
        "colab": {
          "base_uri": "https://localhost:8080/"
        },
        "outputId": "a9aeaabf-3da2-4b61-dc0f-fec4e58269bb"
      },
      "source": [
        "#missing data \n",
        "print(\"Data for country where cases were reported for each patient was missing for\",\n",
        "      round((patientdata[\"country\"].isna().sum()/len(patientdata))*100,2),\"% of the patients.\") \n",
        "print(\"The top 5 most represented countries are below and account for\",\n",
        "      round(sum(patientdata[\"country\"].value_counts()[0:5])/len(patientdata)*100),\n",
        "      \"% of the dataset.\")\n",
        "patientdata[\"country\"].value_counts()[0:5]"
      ],
      "execution_count": null,
      "outputs": [
        {
          "output_type": "stream",
          "text": [
            "Data for country where cases were reported for each patient was missing for 0.0 % of the patients.\n",
            "The top 5 most represented countries are below and account for 52 % of the dataset.\n"
          ],
          "name": "stdout"
        },
        {
          "output_type": "execute_result",
          "data": {
            "text/plain": [
              "india             301207\n",
              "russia            299568\n",
              "united kingdom    299469\n",
              "spain             255108\n",
              "italy             231006\n",
              "Name: country, dtype: int64"
            ]
          },
          "metadata": {
            "tags": []
          },
          "execution_count": 13
        }
      ]
    },
    {
      "cell_type": "markdown",
      "metadata": {
        "id": "ZjG5ARtJr_IQ"
      },
      "source": [
        "### Dates: Symptoms Onset, Hospital Admission, and Discharge or Death"
      ]
    },
    {
      "cell_type": "code",
      "metadata": {
        "id": "4HegMt5SQymE",
        "colab": {
          "base_uri": "https://localhost:8080/",
          "height": 558
        },
        "outputId": "0979f813-d803-4977-ea41-5420cba0b651"
      },
      "source": [
        "patientdata_dates = patientdata.copy()\n",
        "patientdata_dates = patientdata_dates[[\"date_onset_symptoms\",\"date_death_or_discharge\",\"additional_information\"]]\n",
        "patientdata_dates.dropna(inplace=True) #drop null rows\n",
        "# patientdata_dates = patientdata_dates.drop(62693) #this row had a range for the date of onset of symptoms\n",
        "#change \".\" to \"\\\"\n",
        "patientdata_dates[\"date_onset_symptoms\"] = patientdata_dates[\"date_onset_symptoms\"].str.replace('.', '/')\n",
        "patientdata_dates[\"date_death_or_discharge\"] = patientdata_dates[\"date_death_or_discharge\"].str.replace('.', '/')\n",
        "#convert to datetime\n",
        "patientdata_dates['date_onset_symptoms'] =  pd.to_datetime(\n",
        "    patientdata_dates['date_onset_symptoms'], format='%d/%m/%Y')\n",
        "patientdata_dates['date_death_or_discharge'] =  pd.to_datetime(\n",
        "    patientdata_dates['date_death_or_discharge'], format='%d/%m/%Y')\n",
        "#difference between dates\n",
        "patientdata_dates[\"Difference between dates\"] = patientdata_dates[\"date_death_or_discharge\"] - patientdata_dates[\"date_onset_symptoms\"]\n",
        "#convert days to integers\n",
        "patientdata_dates['Difference between dates'] = patientdata_dates['Difference between dates'].dt.days.astype('int16')\n",
        "# bin dates\n",
        "patientdata_dates['Bin_Dates'] = pd.cut(x=patientdata_dates['Difference between dates'], \n",
        "                                                  bins=list(range(-70,100,7)))\n",
        "#sns countplot\n",
        "# print(patientdata_dates)\n",
        "ax = sns.countplot(x=\"Bin_Dates\",data=patientdata_dates)\n",
        "# patientdata_dates[\"additional_information\"].unique()\n"
      ],
      "execution_count": null,
      "outputs": [
        {
          "output_type": "display_data",
          "data": {
            "image/png": "[encoded data removed]",
            "text/plain": [
              "<Figure size 1800x1080 with 1 Axes>"
            ]
          },
          "metadata": {
            "tags": []
          }
        }
      ]
    },
    {
      "cell_type": "code",
      "metadata": {
        "id": "LdsHcHM1zbIU",
        "colab": {
          "base_uri": "https://localhost:8080/",
          "height": 561
        },
        "outputId": "0de5c721-0fae-408e-d75f-17accb33f711"
      },
      "source": [
        "patientdata_dates = patientdata.copy()\n",
        "patientdata_dates = patientdata_dates[[\"date_admission_hospital\",\"date_death_or_discharge\"]]\n",
        "patientdata_dates.dropna(inplace=True) #drop null rows\n",
        "#change \".\" to \"\\\"\n",
        "patientdata_dates[\"date_admission_hospital\"] = patientdata_dates[\"date_admission_hospital\"].str.replace('.', '/')\n",
        "patientdata_dates[\"date_death_or_discharge\"] = patientdata_dates[\"date_death_or_discharge\"].str.replace('.', '/')\n",
        "#convert to datetime\n",
        "patientdata_dates['date_admission_hospital'] =  pd.to_datetime(\n",
        "    patientdata_dates['date_admission_hospital'], format='%d/%m/%Y')\n",
        "patientdata_dates['date_death_or_discharge'] =  pd.to_datetime(\n",
        "    patientdata_dates['date_death_or_discharge'], format='%d/%m/%Y')\n",
        "#difference between dates\n",
        "patientdata_dates[\"Difference between dates\"] = patientdata_dates[\"date_death_or_discharge\"] - patientdata_dates[\"date_admission_hospital\"]\n",
        "#convert days to integers\n",
        "patientdata_dates['Difference between dates'] = patientdata_dates['Difference between dates'].dt.days.astype('int16')\n",
        "# bin dates\n",
        "patientdata_dates['Bin_Dates'] = pd.cut(x=patientdata_dates['Difference between dates'], \n",
        "                                                  bins=list(range(-70,100,7)))\n",
        "#sns countplot\n",
        "ax = sns.countplot(x=\"Bin_Dates\",data=patientdata_dates)"
      ],
      "execution_count": null,
      "outputs": [
        {
          "output_type": "display_data",
          "data": {
            "image/png": "[encoded data removed]",
            "text/plain": [
              "<Figure size 1800x1080 with 1 Axes>"
            ]
          },
          "metadata": {
            "tags": []
          }
        }
      ]
    },
    {
      "cell_type": "markdown",
      "metadata": {
        "id": "1Wy-etGNDWIJ"
      },
      "source": [
        "### Chronic Disease Binary"
      ]
    },
    {
      "cell_type": "code",
      "metadata": {
        "id": "AXFAfBQsRjdt",
        "colab": {
          "base_uri": "https://localhost:8080/"
        },
        "outputId": "62f4c448-0b14-482c-9ac5-99565d219c37"
      },
      "source": [
        "#missing data \n",
        "print(\"Data for chronic diseases for each patient was missing for\",\n",
        "      round((patientdata[\"chronic_disease_binary\"].isna().sum()/len(patientdata))*100,2),\"% of the patients.\")\n",
        "# sns.set(rc={'figure.figsize':(20,10)})\n",
        "# ax = sns.countplot(x=\"chronic_disease_binary\",data=patientdata)\n",
        "patientdata[\"chronic_disease_binary\"].value_counts()\n",
        "\n",
        "#relate finidng here to what cdc says: https://www.cdc.gov/coronavirus/2019-ncov/need-extra-precautions/people-with-medical-conditions.html"
      ],
      "execution_count": null,
      "outputs": [
        {
          "output_type": "stream",
          "text": [
            "Data for chronic diseases for each patient was missing for 0.0 % of the patients.\n"
          ],
          "name": "stdout"
        },
        {
          "output_type": "execute_result",
          "data": {
            "text/plain": [
              "False    2676124\n",
              "True         187\n",
              "Name: chronic_disease_binary, dtype: int64"
            ]
          },
          "metadata": {
            "tags": []
          },
          "execution_count": 16
        }
      ]
    },
    {
      "cell_type": "markdown",
      "metadata": {
        "id": "JGnfa5HcqQQK"
      },
      "source": [
        "### Hospitalized Patients"
      ]
    },
    {
      "cell_type": "code",
      "metadata": {
        "id": "Fqdi_Y7CqPyi",
        "colab": {
          "base_uri": "https://localhost:8080/"
        },
        "outputId": "c3fb09f9-6b6c-40b8-905e-6d1b295245ad"
      },
      "source": [
        "patientdata[\"outcome\"].value_counts()\n",
        "frame = patientdata[patientdata[\"outcome\"]==\"hospitalized\"]\n",
        "for i in frame.columns:\n",
        "  print(i, \":\",round((not frame[i].isna().sum()/len(frame))*100,2),\"%\")\n",
        "frame[\"country_new\"].value_counts() #All the hospitalized people are from India"
      ],
      "execution_count": null,
      "outputs": [
        {
          "output_type": "stream",
          "text": [
            "ID : 100 %\n",
            "age : 0 %\n",
            "sex : 0 %\n",
            "city : 0 %\n",
            "province : 0 %\n",
            "country : 100 %\n",
            "date_onset_symptoms : 0 %\n",
            "date_admission_hospital : 0 %\n",
            "date_confirmation : 100 %\n",
            "symptoms : 0 %\n",
            "lives_in_Wuhan : 0 %\n",
            "travel_history_dates : 0 %\n",
            "travel_history_location : 0 %\n",
            "reported_market_exposure : 0 %\n",
            "additional_information : 0 %\n",
            "chronic_disease_binary : 100 %\n",
            "chronic_disease : 0 %\n",
            "outcome : 100 %\n",
            "date_death_or_discharge : 0 %\n",
            "notes_for_discussion : 0 %\n",
            "location : 0 %\n",
            "country_new : 100 %\n",
            "travel_history_binary : 100 %\n"
          ],
          "name": "stdout"
        },
        {
          "output_type": "execute_result",
          "data": {
            "text/plain": [
              "india    202475\n",
              "Name: country_new, dtype: int64"
            ]
          },
          "metadata": {
            "tags": []
          },
          "execution_count": 17
        }
      ]
    },
    {
      "cell_type": "markdown",
      "metadata": {
        "id": "BRm-3V2fTtyo"
      },
      "source": [
        "### Examining Rows For Hospitalized Patients"
      ]
    },
    {
      "cell_type": "code",
      "metadata": {
        "id": "7Oy36oyBTodF",
        "colab": {
          "base_uri": "https://localhost:8080/",
          "height": 1000
        },
        "outputId": "c740daf7-fbe7-4418-9d1d-8cb2cc99c28f"
      },
      "source": [
        "patientdata3 = patientdata.copy()\n",
        "patientdata3 = patientdata3[patientdata3[\"outcome\"]==\"hospitalized\"]\n",
        "\n",
        "# patientdata3[\"outcome\"].value_counts()\n",
        "# patientdata3[\"date_onset_symptoms\"].value_counts()\n",
        "\n",
        "#check percent of missing values per column\n",
        "print(\"Percentage of missing values per column\")\n",
        "for i in patientdata3.columns:\n",
        "  print(i, \":\",round((patientdata3[i].isna().sum()/len(patientdata3))*100,2),\"%\") \n",
        "\n",
        "#What percentage of the patients had travelled before?\n",
        "#piechart\n",
        "# Pie chart, where the slices will be ordered and plotted counter-clockwise:\n",
        "plt.rcParams['font.size'] = 35\n",
        "labels = patientdata3[\"travel_history_binary\"].unique()\n",
        "sizes = patientdata3[\"travel_history_binary\"].value_counts()\n",
        "explode = (0, 0)  # dont explode\n",
        "fig1, ax1 = plt.subplots()\n",
        "ax1.pie(sizes, explode=explode, labels=labels, shadow=True, startangle=90,\n",
        "        autopct='%1.1f%%')\n",
        "ax1.axis('equal')  # Equal aspect ratio ensures that pie is drawn as a circle.\n",
        "plt.show()\n",
        "\n",
        "#Question: How long have the patients been hospitalized since they were confirmed with having COVID-9?\n",
        "#Note: I got this dataframe on August 30th\n",
        "patientdata3['last_hospitalization_date'] = pd.date_range(start='08/30/2020', \n",
        "                                                          end = '08/30/2020',\n",
        "                                                          periods=len(patientdata3))\n",
        "patientdata3 = patientdata3[[\"last_hospitalization_date\",\"date_confirmation\"]]\n",
        "patientdata3.dropna(inplace=True) #drop null rows\n",
        "# patientdata3 = patientdata_dates.drop(62693) #this row had a range for the date of onset of symptoms\n",
        "#change \".\" to \"\\\" and convert to datetime\n",
        "patientdata3[\"date_confirmation\"] = patientdata3[\"date_confirmation\"].str.replace('.', '/')\n",
        "patientdata3[\"date_confirmation\"] = pd.to_datetime(patientdata3[\"date_confirmation\"], format='%d/%m/%Y')\n",
        "#difference between dates\n",
        "patientdata3[\"difference\"] = patientdata3[\"last_hospitalization_date\"] - patientdata3[\"date_confirmation\"]\n",
        "#convert days to integers\n",
        "patientdata3['difference'] = patientdata3['difference'].dt.days.astype('int16')\n",
        "patientdata3['difference'].unique()\n",
        "# bin dates\n",
        "patientdata3['Bin_Dates'] = pd.cut(x=patientdata3['difference'], \n",
        "                                                  bins=list(range(80,200,7)))\n",
        "#sns countplot\n",
        "ax = sns.countplot(x=\"Bin_Dates\",data=patientdata3) #probably because there is a backlog of updated data "
      ],
      "execution_count": null,
      "outputs": [
        {
          "output_type": "stream",
          "text": [
            "Percentage of missing values per column\n",
            "ID : 0.0 %\n",
            "age : 85.88 %\n",
            "sex : 84.62 %\n",
            "city : 14.52 %\n",
            "province : 0.0 %\n",
            "country : 0.0 %\n",
            "date_onset_symptoms : 100.0 %\n",
            "date_admission_hospital : 100.0 %\n",
            "date_confirmation : 0.0 %\n",
            "symptoms : 100.0 %\n",
            "lives_in_Wuhan : 100.0 %\n",
            "travel_history_dates : 99.97 %\n",
            "travel_history_location : 99.78 %\n",
            "reported_market_exposure : 100.0 %\n",
            "additional_information : 94.15 %\n",
            "chronic_disease_binary : 0.0 %\n",
            "chronic_disease : 100.0 %\n",
            "outcome : 0.0 %\n",
            "date_death_or_discharge : 100.0 %\n",
            "notes_for_discussion : 100.0 %\n",
            "location : 98.11 %\n",
            "country_new : 0.0 %\n",
            "travel_history_binary : 0.0 %\n"
          ],
          "name": "stdout"
        },
        {
          "output_type": "display_data",
          "data": {
            "image/png": "[encoded data removed]",
            "text/plain": [
              "<Figure size 1800x1080 with 1 Axes>"
            ]
          },
          "metadata": {
            "tags": []
          }
        },
        {
          "output_type": "display_data",
          "data": {
            "image/png": "[encoded data removed]",
            "text/plain": [
              "<Figure size 1800x1080 with 1 Axes>"
            ]
          },
          "metadata": {
            "tags": []
          }
        }
      ]
    },
    {
      "cell_type": "markdown",
      "metadata": {
        "id": "NVRv02sDTbk_"
      },
      "source": [
        "# Model Planning"
      ]
    },
    {
      "cell_type": "markdown",
      "metadata": {
        "id": "DZdlrID9Lqwg"
      },
      "source": [
        "## Data Exploration and Variable Selection"
      ]
    },
    {
      "cell_type": "markdown",
      "metadata": {
        "id": "XEqSxxrgLuQk"
      },
      "source": [
        "The columns I will be considering for my model are:\n",
        "1. `symptoms`\n",
        "2.  `outcome`\n",
        "3.  `additional information`\n",
        "4.  `notes for discussion`\n",
        "5.  `chronic_disease`\n",
        "6.  `travel_history_location`\n",
        "\n",
        "I selected these columns because they can help with predicting the eventual outcome of a COVID patient. \n",
        "\n",
        "I will be working on these columns as separate individuals for the NLTK process. I will also consider merging text data from a number of these columns. \n",
        "\n"
      ]
    },
    {
      "cell_type": "markdown",
      "metadata": {
        "id": "PQF_poZQLyN8"
      },
      "source": [
        "## Model Selection"
      ]
    },
    {
      "cell_type": "markdown",
      "metadata": {
        "id": "lKMj17muLz4Z"
      },
      "source": [
        "I settled on the **Natural Language Processing (NLP) model** since NLP has proved to be successful at analyzing unstructured text data. Therefore, it will assist with meeting the goals of the project. This is the only model I will be using. \n",
        "\n",
        "\n",
        "This model will be helpful because it has been used for Electronic Health Records in Medical Informatics ([Source 1](https://www.aclweb.org/anthology/W16-2926.pdf), [Source 2](https://ajp.psychiatryonline.org/doi/full/10.1176/appi.ajp.2014.14091177)). Interestingly, medical informatics is also our market sector.\n",
        "\n",
        "\n",
        "\n",
        "**Assumptions:**\n",
        "Below is the assumption for my Natural Language Processing model:\n",
        "1. Text data on each COVID patient is generated dependent  on information obtained from the COVID patient. \n",
        "\n",
        "Source: [_The Basic Assumptions of NLP_](https://pasterski.com/2014/02/basic-assumptions-nlp/#:~:text=NLP%20also%20assumes%20that%20the,differently%20from%20what%20was%20intended)\n",
        "   \n",
        "After considering a number of open source tools for NLP (i.e _Natural Language ToolKit (NLTK), SpaCy with Textacy, and PyTorch-NLP_), I settled on NLTK since it is the most popular NLTK tool that can assist with building a more rigorous model for my project. \n",
        "\n",
        "\n"
      ]
    },
    {
      "cell_type": "markdown",
      "metadata": {
        "id": "zLl63tKONCf5"
      },
      "source": [
        "# Model Building"
      ]
    },
    {
      "cell_type": "markdown",
      "metadata": {
        "id": "u5AWNwZ4NIqz"
      },
      "source": [
        "**Components of the NLP Model**\n",
        "\n",
        "To create a robust model that has high sensitivity and specificity ratings, I will consider using the following components:\n",
        "\n",
        "\n",
        "1.  <u>Tokenization </u> - Breaking sentences into words for text analysis. Here words will be seperated into boxes. However, it will be important to consider cases where some words naturally come as pairs. E.g \"San Fransisco\" or \"New York\". It will also be important to consider how hyphens, parentheses, and other punctuation marks will be tokenized\n",
        "\n",
        "2.   <u>Stemming </u> - Normalizing words into their basic or root forms e.g \"affection\", \"affect\", and \"affectionately\" will be mapped to affect\n",
        "\n",
        "3.  <u>Lemmatization </u> - Using a dictionary to link words back to their original forms e.g \"am\", \"are\", and \"is\" will all be mapped to \"is\".\n",
        "\n",
        "4.   <u>Part Of Speech (POS) Tags </u> - Assigning each word to its part of speech e.g \"coming\" to \"Verb\". However, it will be important to consider What of cases where individual words have multiple parts of speech.\n",
        "\n",
        "5.  <u>Name Entity Recognition (NER) </u> - e.g. grouping words to location, movies, cartoons etc.\n",
        "\n",
        "6.   <u>Chunking </u> - Taking smaller pieces of words and grouping them together e.g. noun phrase, clauses etc. "
      ]
    },
    {
      "cell_type": "markdown",
      "metadata": {
        "id": "rvqAD7VfHd3s"
      },
      "source": [
        "### Binarizing _outcome_ column"
      ]
    },
    {
      "cell_type": "code",
      "metadata": {
        "id": "ja3FsyCZHkWf",
        "colab": {
          "base_uri": "https://localhost:8080/"
        },
        "outputId": "d52b7967-96ce-4298-be80-43f4594711f5"
      },
      "source": [
        "patientdata2 = patientdata.copy()\n",
        "patientdata2[\"outcome\"].value_counts()\n",
        "patientdata2.drop(patientdata2.loc[patientdata2['outcome']=='https://www.mspbs.gov.py/covid-19.php'].index, inplace=True)\n",
        "patientdata2[\"outcome\"].value_counts()\n",
        "\n",
        "#only extracting rows for where the final outcome of the patient is known:\n",
        "dropping = [\"hospitalized\",\"under treatment\",\"receiving treatment\",\"migrated_other\",\n",
        "        \"migrated\",\"symptoms only improved with cough. currently hospitalized for follow-up.\",\n",
        "        \"not hospitalized\",\"alive\",\"stable\",\n",
        "                                 \"discharge\",\"stable condition\",\n",
        "                                 \"discharged\",\"discharged from hospital\",\n",
        "                                 \"released from quarantine\",\n",
        "                                 \"recovering at home 03.03.2020\"]\n",
        "for i in dropping:\n",
        "  patientdata2.drop(patientdata2.loc[patientdata2['outcome']==i].index, inplace=True)\n",
        "patientdata2[\"outcome\"].value_counts()\n",
        "patientdata2.shape \n",
        "patientdata2.head()\n",
        "\n",
        "#binarizing the outcome\n",
        "#alive\n",
        "patientdata2[\"outcome\"].replace([\"recovered\"],\"recovered\", inplace= True)\n",
        "#dead or near death (all assumed as dead)\n",
        "patientdata2[\"outcome\"].replace([\"deceased\",\"died\",\"death\",\"dead\",\"critical condition\",\n",
        "                                 \"treated in an intensive care unit (14.02.2020)\",\n",
        "        \"severe\",\"critical condition, intubated as of 14.02.2020\",\"severe illness\",\n",
        "        \"unstable\"],\"dead\", inplace= True)\n",
        "print(patientdata2[\"outcome\"].value_counts()) #104127 patients with outcome recorded\n",
        "# patientdata.loc[patientdata['outcome'] == \"https://www.mspbs.gov.py/covid-19.php\"]\n",
        "patientdata2['outcome'].value_counts(normalize=True) * 100\n",
        "patientdata5 = patientdata2.copy()\n",
        "patientdata5[\"outcome\"].unique()\n",
        "patientdata5 = patientdata5.dropna(subset = [\"outcome\"])"
      ],
      "execution_count": null,
      "outputs": [
        {
          "output_type": "stream",
          "text": [
            "recovered    97315\n",
            "dead          6009\n",
            "Name: outcome, dtype: int64\n"
          ],
          "name": "stdout"
        }
      ]
    },
    {
      "cell_type": "code",
      "metadata": {
        "id": "nSSKgyH3vGNf",
        "colab": {
          "base_uri": "https://localhost:8080/",
          "height": 366
        },
        "outputId": "eac438dd-f7d0-4246-8b4f-9ff3bc6aba7f"
      },
      "source": [
        "#coerce the age column:\n",
        "patientdata4 = patientdata2.copy()\n",
        "patientdata4[\"age\"] = pd.to_numeric(patientdata[\"age\"], errors='coerce')\n",
        "\n",
        "#removing missing values\n",
        "patientdata4.drop(patientdata4.loc[patientdata4['age'].isna()].index, inplace=True)\n",
        "patientdata4[\"age\"] = patientdata4[\"age\"].astype(int)\n",
        "patientdata4[\"age\"].unique()\n",
        "#bin ages\n",
        "patientdata4['age_bins'] = pd.cut(x=patientdata4['age'], \n",
        "                                                  bins=[0,9,19,29, 39, 49,59,69,79,89,99])\n",
        "patientdata4[\"age_bins\"].unique()\n",
        "patientdata_ages = patientdata4[\"age_bins\"]\n",
        "\n",
        "patientdata4 = patientdata4[[\"age\",\"age_bins\",\"outcome\"]].dropna()\n",
        "patientdata4[\"outcome\"] = (patientdata4[\"outcome\"] == \"dead\").astype(int)\n",
        "patientdata4[\"outcome\"].value_counts()\n",
        "patientdata4.head()\n",
        "sns.pairplot(data=patientdata4, hue = \"outcome\",height=5)"
      ],
      "execution_count": null,
      "outputs": [
        {
          "output_type": "execute_result",
          "data": {
            "text/plain": [
              "<seaborn.axisgrid.PairGrid at 0x7fc10bdd54a8>"
            ]
          },
          "metadata": {
            "tags": []
          },
          "execution_count": 20
        },
        {
          "output_type": "display_data",
          "data": {
            "image/png": "[encoded data removed]",
            "text/plain": [
              "<Figure size 421.3x360 with 2 Axes>"
            ]
          },
          "metadata": {
            "tags": []
          }
        }
      ]
    },
    {
      "cell_type": "markdown",
      "metadata": {
        "id": "sv_lUoynV-JM"
      },
      "source": [
        "#Model 1: Natural Language Processing"
      ]
    },
    {
      "cell_type": "markdown",
      "metadata": {
        "id": "OcGXCFdBYW-x"
      },
      "source": [
        "### NLTK Function (Text Mining)\n"
      ]
    },
    {
      "cell_type": "code",
      "metadata": {
        "id": "eQr_jxOSYazC"
      },
      "source": [
        "#NLTK Function\n",
        "def nltk_func(target, feature, Yes, No):\n",
        "    #TEXT MINING PROCESS:\n",
        "    #check class distribution\n",
        "    classes = target\n",
        "    print(classes.value_counts()) #more recovered and less dead\n",
        "    #convert class labels to binary values #1 =  dead, 0 = recovered\n",
        "    encoder = LabelEncoder()\n",
        "    Y = encoder.fit_transform(classes)\n",
        "    #store the col_interest  \n",
        "    col_interest = feature\n",
        "\n",
        "    #PUNCTUATION\n",
        "    #remove punctuation\n",
        "    processed = col_interest.str.replace(r\"[^\\w\\d\\s]\",\" \")\n",
        "    #replace whitespace between terms with a single space\n",
        "    processed = processed.str.replace(r\"r'\\s+\", \" \")\n",
        "    #remove leading training whitespaces\n",
        "    processed = processed.str.replace(r\"^\\s+|\\s+?$\",\"\")\n",
        "    #change words to lower case\n",
        "    processed = processed.str.lower()\n",
        "    #remove \"case\"\n",
        "    processed = processed.str.replace(r\"case\",\"\")\n",
        "    #remove \"cases\"\n",
        "    processed = processed.str.replace(r\"cases\",\"\")\n",
        "    #remove \"celsius\"\n",
        "    processed = processed.str.replace(r\"celsius\",\"\")\n",
        "    #replace normal numbers with \"numbr\"\n",
        "    # processed = processed.str.replace(r\"\\d+(\\.\\d+)?\",\"\")\n",
        "    processed = processed.str.replace(r\"\\d+(\\.\\d+)?\",\"numbr\")\n",
        "    #remove stop words from additional info\n",
        "    stop_words = set(stopwords.words(\"english\"))\n",
        "    #joining the words that make sense together (is that what thid does?)\n",
        "    processed = processed.apply(lambda x: \" \".join(term for term in x.split() if term not in stop_words))\n",
        "\n",
        "    #STEMMING\n",
        "    #remove word stems using a Porter stemmer e.g. ing and ed for tenses, \"i have\"\n",
        "    ps = nltk.PorterStemmer()\n",
        "    processed = processed.apply(lambda x:\" \".join(ps.stem(term) for term in x.split()))\n",
        "\n",
        "    # #LEMMATIZATION\n",
        "    nltk.download('wordnet')\n",
        "    word_lem = WordNetLemmatizer()\n",
        "    for i in processed:\n",
        "      word_lem.lemmatize(i)\n",
        "\n",
        "    #TOKENIZATION\n",
        "    #creating a bag-of-words\n",
        "    all_words =[]\n",
        "    for message in processed:\n",
        "      words = word_tokenize(message)\n",
        "      for w in words:\n",
        "        all_words.append(w)\n",
        "    all_words_df = DataFrame (all_words,columns=['col_of_interest'])\n",
        "    #visual representation of words in model\n",
        "    # plt.figure(0)\n",
        "    # all_words_df['col_of_interest'].value_counts()[0:5].plot(kind='bar') #plot 5 most popular words\n",
        "    # plt.figure(1)\n",
        "    all_words = nltk.FreqDist(all_words)\n",
        "    # all_words.plot() \n",
        "\n",
        "    #TEXT ANALYSIS PROCESS & MODEL TRAINING:\n",
        "    #print the total number of words and the 5 most common words\n",
        "    print(\"Number of words:{}\".format(len(all_words)))\n",
        "    print(\"Most common words: {}\".format(all_words.most_common(5)))\n",
        "    #use the most common words as features\n",
        "    word_features = list(all_words.keys())[:]\n",
        "    #define a find_features function\n",
        "    def find_features(message):\n",
        "      words = word_tokenize(message)\n",
        "      features = {} #dictionary\n",
        "      for word in word_features: #looping through the list 200 most common words\n",
        "        features[word] = (word in words) \n",
        "      return features\n",
        "    #find features for all messages\n",
        "    messages = list(zip(processed, Y))\n",
        "    #define a seed for reproducibility\n",
        "    seed = 1\n",
        "    np.random.seed = seed\n",
        "    np.random.shuffle(messages) #shuffling text data\n",
        "    #call find_features function for each SMS messages\n",
        "    featuresets = [(find_features(text), label) for (text,label) in messages]\n",
        "    #split training and test data sets using sklearn\n",
        "    # print(featuresets)\n",
        "    # print(type(featuresets))\n",
        "    training, testing = model_selection.train_test_split(featuresets, test_size = 0.20, \n",
        "                                                        random_state=seed, shuffle = True)\n",
        "    print(\"Training: {}\".format(len(training)))\n",
        "    print(\"Testing: {}\".format(len(testing)))\n",
        "    #Define models to train\n",
        "    # names = [\"K Nearest Neighbors\", \"Decision Tree\", \"Random Forest\",\n",
        "    #         \"Logistic Regression\", \"SGD Classifier\", \"Naive Bayes\", \"SVN Linear\"]\n",
        "    # classifiers = [ KNeighborsClassifier(), DecisionTreeClassifier(),\n",
        "    #               RandomForestClassifier(), LogisticRegression(),\n",
        "    #               SGDClassifier(max_iter=1000),MultinomialNB(), SVC(kernel = \"linear\")\n",
        "    #               ]\n",
        "    names = [\"K Nearest Neighbors\", \"Decision Tree\", \"Random Forest\",\n",
        "            \"Logistic Regression\",\"Naive Bayes\"]\n",
        "    classifiers = [ KNeighborsClassifier(), DecisionTreeClassifier(),\n",
        "                  RandomForestClassifier(), LogisticRegression(class_weight=\"balanced\"),\n",
        "                  MultinomialNB()\n",
        "                  ]\n",
        "    models = list(zip(names, classifiers))\n",
        "    # print(models) #to see parameters each model is using\n",
        "    #wrap models in nltk \n",
        "    for name, model in models:\n",
        "      nltk_model = SklearnClassifier(model)\n",
        "      nltk_model.train(training)\n",
        "      # print(nltk.classify(nltk_model,testing))\n",
        "      accuracy = nltk.classify.accuracy(nltk_model,testing)*100\n",
        "      print('{}: Accuracy: {}'.format(name,accuracy))\n",
        "    #build an ensemble method - Voting classifier where we combine all the algorithms\n",
        "    #we have trained to make decisions\n",
        "    # nltk_ensemble = SklearnClassifier(VotingClassifier(estimators=models,\n",
        "    #                                                    voting =\"hard\", n_jobs=-1,weights =[2,1,1,2,1,1,2]))\n",
        "    nltk_ensemble = SklearnClassifier(VotingClassifier(estimators=models,\n",
        "                                                       voting =\"soft\", n_jobs=-1,weights =[2,1,1,2,1]))\n",
        "    #with hard voting, binary response. With soft voting, you get a prob that it belongs to a particular class\n",
        "    nltk_ensemble.train(training)\n",
        "    accuracy = nltk.classify.accuracy(nltk_ensemble,testing)*100\n",
        "    print()\n",
        "    print('Ensemble Method Accuracy: {}'.format(accuracy)) \n",
        "    # the accuracy is much higher than for most other the individual models\n",
        "    # make class label predictions for testing set\n",
        "    txt_features, labels = zip(*testing)\n",
        "    prediction = nltk_ensemble.classify_many(txt_features)\n",
        "    #print a confusion matrix and a classification report\n",
        "    print(classification_report(labels, prediction))\n",
        "    print(\"CONFUSION MATRIX:\")\n",
        "    print(pd.DataFrame(confusion_matrix(labels, prediction), \n",
        "                index=[[\"actual\", \"actual\"],[Yes,No]],\n",
        "                columns = [[\"predicted\", \"predicted\"],[Yes, No]]))\n",
        "    return "
      ],
      "execution_count": null,
      "outputs": []
    },
    {
      "cell_type": "markdown",
      "metadata": {
        "id": "pdF0qpeZn855"
      },
      "source": [
        "## *travel_history_location* column"
      ]
    },
    {
      "cell_type": "code",
      "metadata": {
        "id": "CIPzNHbKn7tL",
        "colab": {
          "base_uri": "https://localhost:8080/",
          "height": 608
        },
        "outputId": "711c693b-2997-49a1-d064-f1ec9951c88f"
      },
      "source": [
        "### Which countries did most COVID patients visit?\n",
        "#prepare data in this column for the model:\n",
        "patientdata2[\"travel_history_location\"].value_counts()\n",
        "list(patientdata2[\"travel_history_location\"].dropna())\n",
        "travel_main_list =[]\n",
        "travel_main_list = [x for xs in list(patientdata2[\"travel_history_location\"].dropna()) for x in xs.split(',')]\n",
        "travel_main_list = [x for xs in travel_main_list for x in xs.split(', ')]\n",
        "travel_main_list = [x for xs in travel_main_list for x in xs.split(';')]\n",
        "travel_main_list = [i.lstrip() for i in travel_main_list]\n",
        "travel_main_list = [i.rstrip() for i in travel_main_list]\n",
        "travel_main_list = [w.replace('usa', 'united states') for w in travel_main_list]\n",
        "\n",
        "\n",
        "#convert to dataframe\n",
        "travel = DataFrame (travel_main_list,columns=['location'])\n",
        "travel\n",
        "travel[\"location\"].value_counts()[0:15]\n",
        "travel['location'].value_counts()[0:5].plot(kind='bar') #plot 5 most popular locations"
      ],
      "execution_count": null,
      "outputs": [
        {
          "output_type": "execute_result",
          "data": {
            "text/plain": [
              "<matplotlib.axes._subplots.AxesSubplot at 0x7fc10b5376a0>"
            ]
          },
          "metadata": {
            "tags": []
          },
          "execution_count": 22
        },
        {
          "output_type": "display_data",
          "data": {
            "image/png": "[encoded data removed]",
            "text/plain": [
              "<Figure size 1800x1080 with 1 Axes>"
            ]
          },
          "metadata": {
            "tags": []
          }
        }
      ]
    },
    {
      "cell_type": "markdown",
      "metadata": {
        "id": "UjB3_90WSL7i"
      },
      "source": [
        "### Can we predict the _outcome_ of a COVID patient dependent on _travel_history_location_?\n"
      ]
    },
    {
      "cell_type": "code",
      "metadata": {
        "id": "5c95qUo7PIyc",
        "colab": {
          "base_uri": "https://localhost:8080/"
        },
        "outputId": "50f41809-4153-49f5-b5c0-51dbb01cc408"
      },
      "source": [
        "#prepare dataframe for nltk process\n",
        "nltk_df = patientdata2[[\"outcome\",\"travel_history_location\"]]\n",
        "nltk_df = nltk_df.dropna()\n",
        "nltk_df\n",
        "\n",
        "nltk_func(nltk_df[\"outcome\"],nltk_df[\"travel_history_location\"], \n",
        "          \"dead\", \"recovered\") \n",
        "\n",
        "#maybe do a regression model to actually try to predict the probability of recovery"
      ],
      "execution_count": null,
      "outputs": [
        {
          "output_type": "stream",
          "text": [
            "recovered    149\n",
            "dead          40\n",
            "Name: outcome, dtype: int64\n",
            "[nltk_data] Downloading package wordnet to /root/nltk_data...\n",
            "[nltk_data]   Unzipping corpora/wordnet.zip.\n",
            "Number of words:73\n",
            "Most common words: [('dubai', 48), ('unit', 44), ('itali', 26), ('kingdom', 24), ('state', 13)]\n",
            "Training: 151\n",
            "Testing: 38\n",
            "K Nearest Neighbors: Accuracy: 81.57894736842105\n",
            "Decision Tree: Accuracy: 78.94736842105263\n",
            "Random Forest: Accuracy: 81.57894736842105\n",
            "Logistic Regression: Accuracy: 78.94736842105263\n",
            "Naive Bayes: Accuracy: 84.21052631578947\n",
            "\n",
            "Ensemble Method Accuracy: 78.94736842105263\n",
            "              precision    recall  f1-score   support\n",
            "\n",
            "           0       0.57      0.44      0.50         9\n",
            "           1       0.84      0.90      0.87        29\n",
            "\n",
            "    accuracy                           0.79        38\n",
            "   macro avg       0.71      0.67      0.68        38\n",
            "weighted avg       0.78      0.79      0.78        38\n",
            "\n",
            "CONFUSION MATRIX:\n",
            "                 predicted          \n",
            "                      dead recovered\n",
            "actual dead              4         5\n",
            "       recovered         3        26\n"
          ],
          "name": "stdout"
        }
      ]
    },
    {
      "cell_type": "markdown",
      "metadata": {
        "id": "Jx_dh1y5vr0c"
      },
      "source": [
        "## _symptoms_ column"
      ]
    },
    {
      "cell_type": "code",
      "metadata": {
        "id": "6TsnUIy-v8pj",
        "colab": {
          "base_uri": "https://localhost:8080/",
          "height": 605
        },
        "outputId": "da66043e-0b9a-4d5a-d2ae-4ea96827047c"
      },
      "source": [
        "### Which _symptoms_ did most COVID patients have? What was the frequency of these _symptoms_?\n",
        "#prepare data in this column for the model:\n",
        "patientdata2[\"symptoms\"].value_counts()\n",
        "list(patientdata2[\"symptoms\"].dropna())\n",
        "symptoms_list =[]\n",
        "symptoms_list = [x for xs in symptoms_list for x in xs.split('and')]\n",
        "symptoms_list = [x for xs in list(patientdata2[\"symptoms\"].dropna()) for x in xs.split(',')]\n",
        "symptoms_list = [x for xs in symptoms_list for x in xs.split(', ')]\n",
        "symptoms_list = [x for xs in symptoms_list for x in xs.split(';')]\n",
        "symptoms_list = [x for xs in symptoms_list for x in xs.split('; ')]\n",
        "symptoms_list = [i.lstrip() for i in symptoms_list]\n",
        "symptoms_list = [i.rstrip() for i in symptoms_list]\n",
        "pst =  PorterStemmer()\n",
        "symptoms_list = [pst.stem(i) for i in symptoms_list]\n",
        "symptoms_list\n",
        "symptoms_df = DataFrame (symptoms_list,columns=['symptoms'])\n",
        "symptoms_df.head()\n",
        "\n",
        "#convert to dataframe\n",
        "symptoms_df[\"symptoms\"].value_counts()[0:15]\n",
        "symptoms_df['symptoms'].value_counts()[0:5].plot(kind='bar') #plot 5 most popular locations"
      ],
      "execution_count": null,
      "outputs": [
        {
          "output_type": "execute_result",
          "data": {
            "text/plain": [
              "<matplotlib.axes._subplots.AxesSubplot at 0x7fc10cdc7438>"
            ]
          },
          "metadata": {
            "tags": []
          },
          "execution_count": 24
        },
        {
          "output_type": "display_data",
          "data": {
            "image/png": "[encoded data removed]",
            "text/plain": [
              "<Figure size 1800x1080 with 1 Axes>"
            ]
          },
          "metadata": {
            "tags": []
          }
        }
      ]
    },
    {
      "cell_type": "markdown",
      "metadata": {
        "id": "nyPrISMal-un"
      },
      "source": [
        "### Can we predict the _outcome_ of a COVID patient dependent on _symptoms_?"
      ]
    },
    {
      "cell_type": "code",
      "metadata": {
        "id": "lHjhIqB03j-0",
        "colab": {
          "base_uri": "https://localhost:8080/"
        },
        "outputId": "7cdf7f14-6ae4-40fe-8721-8b09a612d43d"
      },
      "source": [
        "#prepare dataframe for nltk process\n",
        "nltk_df = patientdata2[[\"outcome\",\"symptoms\"]]\n",
        "nltk_df = nltk_df.dropna()\n",
        "patientdata_symptom = nltk_df.copy()\n",
        "nltk_df\n",
        "\n",
        "nltk_func(nltk_df[\"outcome\"],nltk_df[\"symptoms\"], \n",
        "          \"dead\", \"recovered\") "
      ],
      "execution_count": null,
      "outputs": [
        {
          "output_type": "stream",
          "text": [
            "dead         141\n",
            "recovered     11\n",
            "Name: outcome, dtype: int64\n",
            "[nltk_data] Downloading package wordnet to /root/nltk_data...\n",
            "[nltk_data]   Package wordnet is already up-to-date!\n",
            "Number of words:78\n",
            "Most common words: [('acut', 67), ('pneumonia', 66), ('respiratori', 60), ('distress', 41), ('fever', 40)]\n",
            "Training: 121\n",
            "Testing: 31\n",
            "K Nearest Neighbors: Accuracy: 90.32258064516128\n",
            "Decision Tree: Accuracy: 93.54838709677419\n",
            "Random Forest: Accuracy: 93.54838709677419\n",
            "Logistic Regression: Accuracy: 93.54838709677419\n",
            "Naive Bayes: Accuracy: 96.7741935483871\n",
            "\n",
            "Ensemble Method Accuracy: 96.7741935483871\n",
            "              precision    recall  f1-score   support\n",
            "\n",
            "           0       0.97      1.00      0.98        28\n",
            "           1       1.00      0.67      0.80         3\n",
            "\n",
            "    accuracy                           0.97        31\n",
            "   macro avg       0.98      0.83      0.89        31\n",
            "weighted avg       0.97      0.97      0.96        31\n",
            "\n",
            "CONFUSION MATRIX:\n",
            "                 predicted          \n",
            "                      dead recovered\n",
            "actual dead             28         0\n",
            "       recovered         1         2\n"
          ],
          "name": "stdout"
        }
      ]
    },
    {
      "cell_type": "markdown",
      "metadata": {
        "id": "tOOLfDhI41Za"
      },
      "source": [
        "## _chronic_disease_ column"
      ]
    },
    {
      "cell_type": "code",
      "metadata": {
        "id": "GHW7fGys455g",
        "colab": {
          "base_uri": "https://localhost:8080/"
        },
        "outputId": "186303b9-dc58-4f3b-b3da-c581ca528dc3"
      },
      "source": [
        "#prepare dataframe for nltk process\n",
        "# patientdata_chronic = patientdata2.copy()\n",
        "nltk_df = patientdata2[[\"outcome\",\"chronic_disease\"]]\n",
        "nltk_df = nltk_df.dropna()\n",
        "patientdata_chronic = nltk_df.copy()\n",
        "nltk_df\n",
        "\n",
        "nltk_func(nltk_df[\"outcome\"],nltk_df[\"chronic_disease\"], \n",
        "          \"dead\", \"recovered\") "
      ],
      "execution_count": null,
      "outputs": [
        {
          "output_type": "stream",
          "text": [
            "dead         104\n",
            "recovered     11\n",
            "Name: outcome, dtype: int64\n",
            "[nltk_data] Downloading package wordnet to /root/nltk_data...\n",
            "[nltk_data]   Package wordnet is already up-to-date!\n",
            "Number of words:83\n",
            "Most common words: [('hypertens', 80), ('diabet', 57), ('diseas', 35), ('chronic', 23), ('kidney', 13)]\n",
            "Training: 92\n",
            "Testing: 23\n",
            "K Nearest Neighbors: Accuracy: 78.26086956521739\n",
            "Decision Tree: Accuracy: 91.30434782608695\n",
            "Random Forest: Accuracy: 91.30434782608695\n",
            "Logistic Regression: Accuracy: 73.91304347826086\n",
            "Naive Bayes: Accuracy: 86.95652173913044\n",
            "\n",
            "Ensemble Method Accuracy: 91.30434782608695\n",
            "              precision    recall  f1-score   support\n",
            "\n",
            "           0       0.91      1.00      0.95        21\n",
            "           1       0.00      0.00      0.00         2\n",
            "\n",
            "    accuracy                           0.91        23\n",
            "   macro avg       0.46      0.50      0.48        23\n",
            "weighted avg       0.83      0.91      0.87        23\n",
            "\n",
            "CONFUSION MATRIX:\n",
            "                 predicted          \n",
            "                      dead recovered\n",
            "actual dead             21         0\n",
            "       recovered         2         0\n"
          ],
          "name": "stdout"
        },
        {
          "output_type": "stream",
          "text": [
            "/usr/local/lib/python3.6/dist-packages/sklearn/metrics/_classification.py:1272: UndefinedMetricWarning: Precision and F-score are ill-defined and being set to 0.0 in labels with no predicted samples. Use `zero_division` parameter to control this behavior.\n",
            "  _warn_prf(average, modifier, msg_start, len(result))\n"
          ],
          "name": "stderr"
        }
      ]
    },
    {
      "cell_type": "markdown",
      "metadata": {
        "id": "f6wIPa8X8NWI"
      },
      "source": [
        "## _additional_information_ column"
      ]
    },
    {
      "cell_type": "code",
      "metadata": {
        "id": "mmaIqVY28SUF",
        "colab": {
          "base_uri": "https://localhost:8080/"
        },
        "outputId": "e5aab47d-6cc1-4818-974b-f0e539adb87b"
      },
      "source": [
        "#prepare dataframe for nltk process\n",
        "nltk_df = patientdata2[[\"outcome\",\"additional_information\"]]\n",
        "nltk_df = nltk_df.dropna()\n",
        "nltk_df\n",
        "\n",
        "nltk_func(nltk_df[\"outcome\"],nltk_df[\"additional_information\"], \n",
        "          \"dead\", \"recovered\") "
      ],
      "execution_count": null,
      "outputs": [
        {
          "output_type": "stream",
          "text": [
            "recovered    5139\n",
            "dead         1239\n",
            "Name: outcome, dtype: int64\n",
            "[nltk_data] Downloading package wordnet to /root/nltk_data...\n",
            "[nltk_data]   Package wordnet is already up-to-date!\n",
            "Number of words:761\n",
            "Most common words: [('cnumbr', 4362), ('numbr', 953), ('updat', 477), ('dashboard', 382), ('date', 333)]\n",
            "Training: 5102\n",
            "Testing: 1276\n",
            "K Nearest Neighbors: Accuracy: 83.93416927899686\n",
            "Decision Tree: Accuracy: 85.26645768025078\n",
            "Random Forest: Accuracy: 85.26645768025078\n",
            "Logistic Regression: Accuracy: 85.57993730407524\n",
            "Naive Bayes: Accuracy: 84.1692789968652\n",
            "\n",
            "Ensemble Method Accuracy: 85.34482758620689\n",
            "              precision    recall  f1-score   support\n",
            "\n",
            "           0       0.91      0.37      0.53       281\n",
            "           1       0.85      0.99      0.91       995\n",
            "\n",
            "    accuracy                           0.85      1276\n",
            "   macro avg       0.88      0.68      0.72      1276\n",
            "weighted avg       0.86      0.85      0.83      1276\n",
            "\n",
            "CONFUSION MATRIX:\n",
            "                 predicted          \n",
            "                      dead recovered\n",
            "actual dead            104       177\n",
            "       recovered        10       985\n"
          ],
          "name": "stdout"
        }
      ]
    },
    {
      "cell_type": "markdown",
      "metadata": {
        "id": "jCZe6NfeWBok"
      },
      "source": [
        "# Model 2: Natural Language Processing"
      ]
    },
    {
      "cell_type": "markdown",
      "metadata": {
        "id": "S-eoSotaQUsI"
      },
      "source": [
        "## NLTK Function (Analysing Dates)"
      ]
    },
    {
      "cell_type": "markdown",
      "metadata": {
        "id": "DNSwaaxmVn_I"
      },
      "source": [
        "## Symptoms Onset and Hospital Discharge/Death"
      ]
    },
    {
      "cell_type": "markdown",
      "metadata": {
        "id": "gHkjX67TNdxY"
      },
      "source": [
        "### Predicting length of time in hospital after onset of symptoms given _additional_information_ on patient"
      ]
    },
    {
      "cell_type": "code",
      "metadata": {
        "id": "-srn0_ByVYWn"
      },
      "source": [
        "#NLTK Function\n",
        "def nltk_func3(target, feature, Up_to_Day_Fourteen, Up_to_Day_Three_Hundred):\n",
        "    #TEXT MINING PROCESS:\n",
        "    #check class distribution\n",
        "    classes = target\n",
        "    print(classes.value_counts()) #more recovered and less dead\n",
        "    #convert class labels to binary values #1 =  dead, 0 = recovered\n",
        "    encoder = LabelEncoder()\n",
        "    Y = encoder.fit_transform(classes)\n",
        "    #store the col_interest  \n",
        "    col_interest = feature\n",
        "\n",
        "    #PUNCTUATION\n",
        "    #remove punctuation\n",
        "    processed = col_interest.str.replace(r\"[^\\w\\d\\s]\",\" \")\n",
        "    #replace whitespace between terms with a single space\n",
        "    processed = processed.str.replace(r\"r'\\s+\", \" \")\n",
        "    #remove leading training whitespaces\n",
        "    processed = processed.str.replace(r\"^\\s+|\\s+?$\",\"\")\n",
        "    #change words to lower case\n",
        "    processed = processed.str.lower()\n",
        "    #remove \"case\"\n",
        "    processed = processed.str.replace(r\"case\",\"\")\n",
        "    #remove \"cases\"\n",
        "    processed = processed.str.replace(r\"cases\",\"\")\n",
        "    #remove \"celsius\"\n",
        "    processed = processed.str.replace(r\"celsius\",\"\")\n",
        "    #replace normal numbers with \"numbr\"\n",
        "    # processed = processed.str.replace(r\"\\d+(\\.\\d+)?\",\"\")\n",
        "    processed = processed.str.replace(r\"\\d+(\\.\\d+)?\",\"numbr\")\n",
        "    processed = processed.str.replace(r\"cnumbr\",\"\")\n",
        "    processed = processed.str.replace(r\"numbr\",\"\")\n",
        "    #remove stop words from additional info\n",
        "    stop_words = set(stopwords.words(\"english\"))\n",
        "    #joining the words that make sense together (is that what thid does?)\n",
        "    processed = processed.apply(lambda x: \" \".join(term for term in x.split() if term not in stop_words))\n",
        "\n",
        "    #STEMMING\n",
        "    #remove word stems using a Porter stemmer e.g. ing and ed for tenses, \"i have\"\n",
        "    # ps = nltk.PorterStemmer()\n",
        "    # processed = processed.apply(lambda x:\" \".join(ps.stem(term) for term in x.split()))\n",
        "\n",
        "    #LEMMATIZATION\n",
        "    nltk.download('wordnet')\n",
        "    word_lem = WordNetLemmatizer()\n",
        "    for i in processed:\n",
        "      word_lem.lemmatize(i)\n",
        "\n",
        "    #TOKENIZATION\n",
        "    #creating a bag-of-words\n",
        "    all_words =[]\n",
        "    for message in processed:\n",
        "      words = word_tokenize(message)\n",
        "      for w in words:\n",
        "        all_words.append(w)\n",
        "    all_words_df = DataFrame (all_words,columns=['col_of_interest'])\n",
        "    #visual representation of words in model\n",
        "    # plt.figure(0)\n",
        "    # all_words_df['col_of_interest'].value_counts()[0:5].plot(kind='bar') #plot 5 most popular words\n",
        "    # plt.figure(1)\n",
        "    all_words = nltk.FreqDist(all_words)\n",
        "    # all_words.plot() \n",
        "\n",
        "    #TEXT ANALYSIS PROCESS & MODEL TRAINING:\n",
        "    #print the total number of words and the 5 most common words\n",
        "    print(\"Number of words:{}\".format(len(all_words)))\n",
        "    print(\"Most common words: {}\".format(all_words.most_common(5)))\n",
        "    #use the most common words as features\n",
        "    word_features = list(all_words.keys())[:]\n",
        "    #define a find_features function\n",
        "    def find_features(message):\n",
        "      words = word_tokenize(message)\n",
        "      features = {} #dictionary\n",
        "      for word in word_features: #looping through the list 200 most common words\n",
        "        features[word] = (word in words) \n",
        "      return features\n",
        "    #find features for all messages\n",
        "    messages = list(zip(processed, Y))\n",
        "    #define a seed for reproducibility\n",
        "    seed = 1\n",
        "    np.random.seed = seed\n",
        "    np.random.shuffle(messages) #shuffling text data\n",
        "    #call find_features function for each SMS messages\n",
        "    featuresets = [(find_features(text), label) for (text,label) in messages]\n",
        "    #split training and test data sets using sklearn\n",
        "    # print(featuresets)\n",
        "    # print(type(featuresets))\n",
        "    training, testing = model_selection.train_test_split(featuresets, test_size = 0.20, \n",
        "                                                        random_state=seed, shuffle = True)\n",
        "    print(\"Training: {}\".format(len(training)))\n",
        "    print(\"Testing: {}\".format(len(testing)))\n",
        "    #Define models to train\n",
        "    # names = [\"K Nearest Neighbors\", \"Decision Tree\", \"Random Forest\",\n",
        "    #         \"Logistic Regression\", \"SGD Classifier\", \"Naive Bayes\", \"SVN Linear\"]\n",
        "    # classifiers = [ KNeighborsClassifier(), DecisionTreeClassifier(),\n",
        "    #               RandomForestClassifier(), LogisticRegression(),\n",
        "    #               SGDClassifier(max_iter=1000),MultinomialNB(), SVC(kernel = \"linear\")\n",
        "    #               ]\n",
        "    names = [\"Decision Tree\", \"Random Forest\", \"SGD Classifier\",\"Naive Bayes\",\"SVN Linear\"]\n",
        "    classifiers = [DecisionTreeClassifier(),\n",
        "                  RandomForestClassifier(),\n",
        "                  SGDClassifier(max_iter=1000), MultinomialNB(),SVC(kernel = \"linear\")\n",
        "                  ]\n",
        "    models = list(zip(names, classifiers))\n",
        "    # print(models) #to see parameters each model is using\n",
        "    #wrap models in nltk \n",
        "    for name, model in models:\n",
        "      nltk_model = SklearnClassifier(model)\n",
        "      nltk_model.train(training)\n",
        "      # print(nltk.classify(nltk_model,testing))\n",
        "      accuracy = nltk.classify.accuracy(nltk_model,testing)*100\n",
        "      print('{}: Accuracy: {}'.format(name,accuracy))\n",
        "    #build an ensemble method - Voting classifier where we combine all the algorithms\n",
        "    #we have trained to make decisions\n",
        "    nltk_ensemble = SklearnClassifier(VotingClassifier(estimators=models,\n",
        "                                                       voting =\"hard\", n_jobs=-1))\n",
        "    # nltk_ensemble = SklearnClassifier(VotingClassifier(estimators=models,\n",
        "    #                                                    voting =\"soft\", n_jobs=-1,weights =[2,1,1,2,1]))\n",
        "    #with hard voting, binary response. With soft voting, you get a prob that it belongs to a particular class\n",
        "    nltk_ensemble.train(training)\n",
        "    accuracy = nltk.classify.accuracy(nltk_ensemble,testing)*100\n",
        "    print()\n",
        "    print('Ensemble Method Accuracy: {}'.format(accuracy)) \n",
        "    # the accuracy is much higher than for most other the individual models\n",
        "    # make class label predictions for testing set\n",
        "    txt_features, labels = zip(*testing)\n",
        "    prediction = nltk_ensemble.classify_many(txt_features)\n",
        "    #print a confusion matrix and a classification report\n",
        "    print(classification_report(labels, prediction))\n",
        "    print(\"CONFUSION MATRIX:\")\n",
        "    print(pd.DataFrame(confusion_matrix(labels, prediction), \n",
        "                index=[[\"actual\", \"actual\"],[Up_to_Day_Fourteen,Up_to_Day_Three_Hundred]],\n",
        "                columns = [[\"predicted\", \"predicted\"],[Up_to_Day_Fourteen, Up_to_Day_Three_Hundred]]))\n",
        "    return "
      ],
      "execution_count": null,
      "outputs": []
    },
    {
      "cell_type": "code",
      "metadata": {
        "id": "_Tii3yqTNbCc",
        "colab": {
          "base_uri": "https://localhost:8080/",
          "height": 1000
        },
        "outputId": "c2c81ef1-bb03-450c-eab5-cfc0a24d54d5"
      },
      "source": [
        "patientdata_dates = patientdata2.copy()\n",
        "# patientdata_dates = patientdata.copy() #changed from this to above :)\n",
        "patientdata_dates = patientdata_dates[[\"date_onset_symptoms\",\"date_death_or_discharge\",\"additional_information\",\"outcome\"]]\n",
        "patientdata_dates.dropna(inplace=True) #drop null rows\n",
        "# patientdata_dates[\"outcome\"].value_counts() #some of these people eventually died and some eventually recovered\n",
        "\n",
        "# patientdata_dates = patientdata_dates.drop(62693) #this row had a range for the date of onset of symptoms\n",
        "#change \".\" to \"\\\"\n",
        "patientdata_dates[\"date_onset_symptoms\"] = patientdata_dates[\"date_onset_symptoms\"].str.replace('.', '/')\n",
        "patientdata_dates[\"date_death_or_discharge\"] = patientdata_dates[\"date_death_or_discharge\"].str.replace('.', '/')\n",
        "patientdata_dates[\"date_onset_symptoms\"] = patientdata_dates[\"date_onset_symptoms\"].str.replace('-', '')\n",
        "# patientdata_dates[\"date_death_or_discharge\"] = patientdata_dates[\"date_death_or_discharge\"].str.replace('-', '')\n",
        "#convert to datetime\n",
        "patientdata_dates['date_onset_symptoms'] =  pd.to_datetime(\n",
        "    patientdata_dates['date_onset_symptoms'], format='%d/%m/%Y')\n",
        "patientdata_dates['date_death_or_discharge'] =  pd.to_datetime(\n",
        "    patientdata_dates['date_death_or_discharge'], format='%d/%m/%Y')\n",
        "#difference between dates\n",
        "patientdata_dates[\"Difference between dates\"] = patientdata_dates[\"date_death_or_discharge\"] - patientdata_dates[\"date_onset_symptoms\"]\n",
        "#convert days to integers\n",
        "patientdata_dates['Difference between dates'] = patientdata_dates['Difference between dates'].dt.days.astype('int16')\n",
        "# bin dates\n",
        "# patientdata_dates['Bin_Dates'] = pd.cut(x=patientdata_dates['Difference between dates'], \n",
        "#                                                   bins=list(range(-7,63,14)))\n",
        "patientdata_dates['Bin_Dates'] = pd.cut(x=patientdata_dates['Difference between dates'], \n",
        "                                                  bins=np.array([0,14, 200]))\n",
        "patientdata_dates.dropna(inplace=True) #drop null rows\n",
        "#sns countplot\n",
        "ax = sns.countplot(x=\"Bin_Dates\",data=patientdata_dates)\n",
        "patientdata_dates\n",
        "\n",
        "#prep...\n",
        "patientdata_dates[\"additional_information\"].unique()\n",
        "patientdata_dates.Bin_Dates.value_counts()\n",
        "patientdata_dates[\"Bin_Dates\"] = patientdata_dates[\"Bin_Dates\"].astype(str)\n",
        "patientdata_dates[\"Bin_Dates\"].unique()\n",
        "\n",
        "#prepare dataframe for nltk process\n",
        "nltk_df = patientdata_dates[[\"Bin_Dates\",\"additional_information\"]]\n",
        "nltk_df = nltk_df.dropna()\n",
        "nltk_df\n",
        "\n",
        "patientdata_sym_disch = patientdata_dates[[\"Bin_Dates\"]]\n",
        "nltk_func3(nltk_df[\"Bin_Dates\"],nltk_df[\"additional_information\"], \n",
        "          '(0, 14]','(14, 200]') "
      ],
      "execution_count": null,
      "outputs": [
        {
          "output_type": "stream",
          "text": [
            "(0, 14]      430\n",
            "(14, 200]    201\n",
            "Name: Bin_Dates, dtype: int64\n",
            "[nltk_data] Downloading package wordnet to /root/nltk_data...\n",
            "[nltk_data]   Package wordnet is already up-to-date!\n",
            "Number of words:96\n",
            "Most common words: [('ph', 77), ('chronic', 25), ('diseases', 17), ('hypertension', 14), ('diabetes', 11)]\n",
            "Training: 504\n",
            "Testing: 127\n",
            "Decision Tree: Accuracy: 69.29133858267717\n",
            "Random Forest: Accuracy: 69.29133858267717\n",
            "SGD Classifier: Accuracy: 69.29133858267717\n",
            "Naive Bayes: Accuracy: 66.92913385826772\n",
            "SVN Linear: Accuracy: 69.29133858267717\n",
            "\n",
            "Ensemble Method Accuracy: 69.29133858267717\n",
            "              precision    recall  f1-score   support\n",
            "\n",
            "           0       0.69      0.96      0.81        85\n",
            "           1       0.67      0.14      0.24        42\n",
            "\n",
            "    accuracy                           0.69       127\n",
            "   macro avg       0.68      0.55      0.52       127\n",
            "weighted avg       0.69      0.69      0.62       127\n",
            "\n",
            "CONFUSION MATRIX:\n",
            "                 predicted          \n",
            "                   (0, 14] (14, 200]\n",
            "actual (0, 14]          82         3\n",
            "       (14, 200]        36         6\n"
          ],
          "name": "stdout"
        },
        {
          "output_type": "display_data",
          "data": {
            "image/png": "[encoded data removed]",
            "text/plain": [
              "<Figure size 1800x1080 with 1 Axes>"
            ]
          },
          "metadata": {
            "tags": []
          }
        }
      ]
    },
    {
      "cell_type": "markdown",
      "metadata": {
        "id": "cS2Z-JYiVycX"
      },
      "source": [
        "## Hospital Admission and Hospital Discharge/Death"
      ]
    },
    {
      "cell_type": "markdown",
      "metadata": {
        "id": "KCdzRQDBXdC9"
      },
      "source": [
        "### Predicting length of time in hospital after hospital admission given _symptoms_"
      ]
    },
    {
      "cell_type": "code",
      "metadata": {
        "id": "m3ddJofUXcqg",
        "colab": {
          "base_uri": "https://localhost:8080/",
          "height": 1000
        },
        "outputId": "cf17e966-a570-40b4-a321-0094bb88c94a"
      },
      "source": [
        "patientdata_dates = patientdata2.copy()\n",
        "# patientdata_dates = patientdata.copy() #changed this to above code :)\n",
        "patientdata_dates = patientdata_dates[[\"date_admission_hospital\",\"date_death_or_discharge\",\"additional_information\"]]\n",
        "patientdata_dates.dropna(inplace=True) #drop null rows\n",
        "# patientdata_dates[\"outcome\"].value_counts() #some of these people eventually died and a larger numbr eventually recovered\n",
        "\n",
        "#change \".\" to \"\\\"\n",
        "patientdata_dates[\"date_admission_hospital\"] = patientdata_dates[\"date_admission_hospital\"].str.replace('.', '/')\n",
        "patientdata_dates[\"date_death_or_discharge\"] = patientdata_dates[\"date_death_or_discharge\"].str.replace('.', '/')\n",
        "#convert to datetime\n",
        "patientdata_dates['date_admission_hospital'] =  pd.to_datetime(\n",
        "    patientdata_dates['date_admission_hospital'], format='%d/%m/%Y')\n",
        "patientdata_dates['date_death_or_discharge'] =  pd.to_datetime(\n",
        "    patientdata_dates['date_death_or_discharge'], format='%d/%m/%Y')\n",
        "#difference between dates\n",
        "patientdata_dates[\"Difference between dates\"] = patientdata_dates[\"date_death_or_discharge\"] - patientdata_dates[\"date_admission_hospital\"]\n",
        "#convert days to integers\n",
        "patientdata_dates['Difference between dates'] = patientdata_dates['Difference between dates'].dt.days.astype('int16')\n",
        "# bin dates\n",
        "patientdata_dates['Bin_Dates'] = pd.cut(x=patientdata_dates['Difference between dates'], \n",
        "                                                  bins=np.array([0,14, 200]))\n",
        "#sns countplot\n",
        "ax = sns.countplot(x=\"Bin_Dates\",data=patientdata_dates)\n",
        "patientdata_dates.Bin_Dates.value_counts()\n",
        "patientdata_hosp_disch = patientdata_dates[[\"Bin_Dates\"]]\n",
        "\n",
        "nltk_func3(nltk_df[\"Bin_Dates\"],nltk_df[\"additional_information\"], \n",
        "          '(0, 14]','(14, 200]') "
      ],
      "execution_count": null,
      "outputs": [
        {
          "output_type": "stream",
          "text": [
            "(0, 14]      430\n",
            "(14, 200]    201\n",
            "Name: Bin_Dates, dtype: int64\n",
            "[nltk_data] Downloading package wordnet to /root/nltk_data...\n",
            "[nltk_data]   Package wordnet is already up-to-date!\n",
            "Number of words:96\n",
            "Most common words: [('ph', 77), ('chronic', 25), ('diseases', 17), ('hypertension', 14), ('diabetes', 11)]\n",
            "Training: 504\n",
            "Testing: 127\n",
            "Decision Tree: Accuracy: 75.59055118110236\n",
            "Random Forest: Accuracy: 74.80314960629921\n",
            "SGD Classifier: Accuracy: 75.59055118110236\n",
            "Naive Bayes: Accuracy: 74.01574803149606\n",
            "SVN Linear: Accuracy: 75.59055118110236\n",
            "\n",
            "Ensemble Method Accuracy: 75.59055118110236\n",
            "              precision    recall  f1-score   support\n",
            "\n",
            "           0       0.76      0.96      0.85        91\n",
            "           1       0.69      0.25      0.37        36\n",
            "\n",
            "    accuracy                           0.76       127\n",
            "   macro avg       0.73      0.60      0.61       127\n",
            "weighted avg       0.74      0.76      0.71       127\n",
            "\n",
            "CONFUSION MATRIX:\n",
            "                 predicted          \n",
            "                   (0, 14] (14, 200]\n",
            "actual (0, 14]          87         4\n",
            "       (14, 200]        27         9\n"
          ],
          "name": "stdout"
        },
        {
          "output_type": "display_data",
          "data": {
            "image/png": "[encoded data removed]",
            "text/plain": [
              "<Figure size 1800x1080 with 1 Axes>"
            ]
          },
          "metadata": {
            "tags": []
          }
        }
      ]
    },
    {
      "cell_type": "markdown",
      "metadata": {
        "id": "NrmeDmzvWFg4"
      },
      "source": [
        "# Model 3: Logistic Regression"
      ]
    },
    {
      "cell_type": "markdown",
      "metadata": {
        "id": "okI_P8eQSLlk"
      },
      "source": [
        "Why I used logistic regression (https://www.javatpoint.com/linear-regression-vs-logistic-regression-in-machine-learning#)"
      ]
    },
    {
      "cell_type": "markdown",
      "metadata": {
        "id": "EmS9d6d_WiU3"
      },
      "source": [
        "## NLTK Function (Simple)"
      ]
    },
    {
      "cell_type": "code",
      "metadata": {
        "id": "Bkm7ZQZITzJC"
      },
      "source": [
        "#NLTK Function (most common words)\n",
        "def nltk_df_common_words_func(feature):\n",
        "    #TEXT MINING PROCESS:\n",
        "    # #check class distribution\n",
        "    # classes = target\n",
        "    # print(classes.value_counts()) #more recovered and less dead\n",
        "    # #convert class labels to binary values #1 =  dead, 0 = recovered\n",
        "    # encoder = LabelEncoder()\n",
        "    # Y = encoder.fit_transform(classes)\n",
        "    #store the col_interest  \n",
        "    col_interest = feature\n",
        "\n",
        "    #PUNCTUATION\n",
        "    #remove punctuation\n",
        "    processed = col_interest.str.replace(r\"[^\\w\\d\\s]\",\" \")\n",
        "    #replace whitespace between terms with a single space\n",
        "    processed = processed.str.replace(r\"r'\\s+\", \" \")\n",
        "    #remove leading training whitespaces\n",
        "    processed = processed.str.replace(r\"^\\s+|\\s+?$\",\"\")\n",
        "    #change words to lower case\n",
        "    processed = processed.str.lower()\n",
        "    #remove \"case\"\n",
        "    processed = processed.str.replace(r\"case\",\"\")\n",
        "    #remove \"cases\"\n",
        "    processed = processed.str.replace(r\"cases\",\"\")\n",
        "    #remove \"celsius\"\n",
        "    processed = processed.str.replace(r\"celsius\",\"\")\n",
        "    #replace normal numbers with \"numbr\"\n",
        "    # processed = processed.str.replace(r\"\\d+(\\.\\d+)?\",\"\")\n",
        "    processed = processed.str.replace(r\"\\d+(\\.\\d+)?\",\"numbr\")\n",
        "    #remove stop words from additional info\n",
        "    stop_words = set(stopwords.words(\"english\"))\n",
        "    #joining the words that make sense together (is that what thid does?)\n",
        "    processed = processed.apply(lambda x: \" \".join(term for term in x.split() if term not in stop_words))\n",
        "\n",
        "    #STEMMING\n",
        "    #remove word stems using a Porter stemmer e.g. ing and ed for tenses, \"i have\"\n",
        "    ps = nltk.PorterStemmer()\n",
        "    processed = processed.apply(lambda x:\" \".join(ps.stem(term) for term in x.split()))\n",
        "\n",
        "    # #LEMMATIZATION\n",
        "    nltk.download('wordnet')\n",
        "    word_lem = WordNetLemmatizer()\n",
        "    for i in processed:\n",
        "      word_lem.lemmatize(i)\n",
        "\n",
        "    #TOKENIZATION\n",
        "    #creating a bag-of-words\n",
        "    all_words =[]\n",
        "    for message in processed:\n",
        "      words = word_tokenize(message)\n",
        "      for w in words:\n",
        "        all_words.append(w)\n",
        "    all_words_df = DataFrame (all_words,columns=['col_of_interest'])\n",
        "    #visual representation of words in model\n",
        "    # plt.figure(0)\n",
        "    # all_words_df['col_of_interest'].value_counts()[0:5].plot(kind='bar') #plot 5 most popular words\n",
        "    # plt.figure(1)\n",
        "    all_words = nltk.FreqDist(all_words)\n",
        "    # all_words.plot() \n",
        "\n",
        "    #print the total number of words and the 5 most common words\n",
        "    # print(\"Number of words:{}\".format(len(all_words)))\n",
        "    # print(\"Most common words: {}\".format(all_words.most_common(5)))\n",
        "\n",
        "    return all_words.most_common(5)"
      ],
      "execution_count": null,
      "outputs": []
    },
    {
      "cell_type": "markdown",
      "metadata": {
        "id": "11BK6ea3Wn_I"
      },
      "source": [
        "## Integrating Previous Data For Modeling Process"
      ]
    },
    {
      "cell_type": "code",
      "metadata": {
        "id": "-5I2MRonNjRh",
        "colab": {
          "base_uri": "https://localhost:8080/"
        },
        "outputId": "2746a66c-7727-41ad-d4c9-a3c30f82d497"
      },
      "source": [
        "#y: score \n",
        "#x: age, sex, chronic disease (one-hot encode), 2 date differences, symptoms (one-hot encode)\n",
        "\n",
        "#Create needed dataframe\n",
        "patientdata5.head()\n",
        "#check percent of missing values per column\n",
        "print(\"Percentage of non-missing values per column\")\n",
        "for i in patientdata5.columns:\n",
        "  print(i, \":\",round((not patientdata5[i].isna().sum()/len(patientdata5))*100,2),\"%\")\n",
        "\n",
        "#extracting most common disease for the top 5 common words (get from nltk function) (MAYBE NEGATE THIS ONE?)\n",
        "patientdata_chronic.head()\n",
        "nltk_df_common_words = patientdata_chronic[[\"chronic_disease\"]]\n",
        "nltk_df_common_words = nltk_df_common_words.dropna()\n",
        "nltk_df_common_words\n",
        "common_chronic = nltk_df_common_words_func(nltk_df_common_words[\"chronic_disease\"]) \n",
        "print(common_chronic)\n",
        "\n",
        "#extracting most commond symptoms for the top 5 common words \n",
        "patientdata_symptom.head()\n",
        "nltk_df_common_words = patientdata_symptom[[\"symptoms\"]]\n",
        "nltk_df_common_words = nltk_df_common_words.dropna()\n",
        "nltk_df_common_words\n",
        "common_symptom = nltk_df_common_words_func(nltk_df_common_words[\"symptoms\"]) \n",
        "print(common_symptom)"
      ],
      "execution_count": null,
      "outputs": [
        {
          "output_type": "stream",
          "text": [
            "Percentage of non-missing values per column\n",
            "ID : 100 %\n",
            "age : 0 %\n",
            "sex : 0 %\n",
            "city : 0 %\n",
            "province : 0 %\n",
            "country : 0 %\n",
            "date_onset_symptoms : 0 %\n",
            "date_admission_hospital : 0 %\n",
            "date_confirmation : 0 %\n",
            "symptoms : 0 %\n",
            "lives_in_Wuhan : 0 %\n",
            "travel_history_dates : 0 %\n",
            "travel_history_location : 0 %\n",
            "reported_market_exposure : 0 %\n",
            "additional_information : 0 %\n",
            "chronic_disease_binary : 100 %\n",
            "chronic_disease : 0 %\n",
            "outcome : 100 %\n",
            "date_death_or_discharge : 0 %\n",
            "notes_for_discussion : 0 %\n",
            "location : 0 %\n",
            "country_new : 0 %\n",
            "travel_history_binary : 0 %\n",
            "[nltk_data] Downloading package wordnet to /root/nltk_data...\n",
            "[nltk_data]   Package wordnet is already up-to-date!\n",
            "[('hypertens', 80), ('diabet', 57), ('diseas', 35), ('chronic', 23), ('kidney', 13)]\n",
            "[nltk_data] Downloading package wordnet to /root/nltk_data...\n",
            "[nltk_data]   Package wordnet is already up-to-date!\n",
            "[('acut', 67), ('pneumonia', 66), ('respiratori', 60), ('distress', 41), ('fever', 40)]\n"
          ],
          "name": "stdout"
        }
      ]
    },
    {
      "cell_type": "code",
      "metadata": {
        "id": "7MoOiWFOaTN6",
        "colab": {
          "base_uri": "https://localhost:8080/",
          "height": 202
        },
        "outputId": "ce6b59ae-6815-4f31-87a4-3eb617ac177f"
      },
      "source": [
        "#creating column for most common disease\n",
        "templist = []\n",
        "for i in range(5):\n",
        "  templist.append(common_chronic[i][0]) #FIND WAY TO SELECT DISEASES ONLY\n",
        "templist\n",
        "for i in templist:\n",
        "  patientdata_chronic[i] = patientdata_chronic['chronic_disease'].str.contains(i)\n",
        "patientdata_chronic.head()\n",
        "\n",
        "#creating column for symptoms\n",
        "templist1 = []\n",
        "for i in range(5):\n",
        "  templist1.append(common_symptom[i][0]) \n",
        "templist1\n",
        "for i in templist1:\n",
        "  patientdata_symptom[i] = patientdata_symptom['symptoms'].str.contains(i)\n",
        "patientdata_symptom.head()\n",
        "\n",
        "#compare score to recovered and dead info you have :)"
      ],
      "execution_count": null,
      "outputs": [
        {
          "output_type": "execute_result",
          "data": {
            "text/html": [
              "<div>\n",
              "<style scoped>\n",
              "    .dataframe tbody tr th:only-of-type {\n",
              "        vertical-align: middle;\n",
              "    }\n",
              "\n",
              "    .dataframe tbody tr th {\n",
              "        vertical-align: top;\n",
              "    }\n",
              "\n",
              "    .dataframe thead th {\n",
              "        text-align: right;\n",
              "    }\n",
              "</style>\n",
              "<table border=\"1\" class=\"dataframe\">\n",
              "  <thead>\n",
              "    <tr style=\"text-align: right;\">\n",
              "      <th></th>\n",
              "      <th>outcome</th>\n",
              "      <th>symptoms</th>\n",
              "      <th>acut</th>\n",
              "      <th>pneumonia</th>\n",
              "      <th>respiratori</th>\n",
              "      <th>distress</th>\n",
              "      <th>fever</th>\n",
              "    </tr>\n",
              "  </thead>\n",
              "  <tbody>\n",
              "    <tr>\n",
              "      <th>8889</th>\n",
              "      <td>dead</td>\n",
              "      <td>severe, kidney failure and hypertension</td>\n",
              "      <td>False</td>\n",
              "      <td>False</td>\n",
              "      <td>False</td>\n",
              "      <td>False</td>\n",
              "      <td>False</td>\n",
              "    </tr>\n",
              "    <tr>\n",
              "      <th>11111</th>\n",
              "      <td>dead</td>\n",
              "      <td>difficulty breathing</td>\n",
              "      <td>False</td>\n",
              "      <td>False</td>\n",
              "      <td>False</td>\n",
              "      <td>False</td>\n",
              "      <td>False</td>\n",
              "    </tr>\n",
              "    <tr>\n",
              "      <th>13331</th>\n",
              "      <td>dead</td>\n",
              "      <td>cough, fever</td>\n",
              "      <td>False</td>\n",
              "      <td>False</td>\n",
              "      <td>False</td>\n",
              "      <td>False</td>\n",
              "      <td>True</td>\n",
              "    </tr>\n",
              "    <tr>\n",
              "      <th>14442</th>\n",
              "      <td>dead</td>\n",
              "      <td>cough, sore throat</td>\n",
              "      <td>False</td>\n",
              "      <td>False</td>\n",
              "      <td>False</td>\n",
              "      <td>False</td>\n",
              "      <td>False</td>\n",
              "    </tr>\n",
              "    <tr>\n",
              "      <th>18330</th>\n",
              "      <td>dead</td>\n",
              "      <td>cough, fever, malaise</td>\n",
              "      <td>False</td>\n",
              "      <td>False</td>\n",
              "      <td>False</td>\n",
              "      <td>False</td>\n",
              "      <td>True</td>\n",
              "    </tr>\n",
              "  </tbody>\n",
              "</table>\n",
              "</div>"
            ],
            "text/plain": [
              "      outcome                                 symptoms  ...  distress  fever\n",
              "8889     dead  severe, kidney failure and hypertension  ...     False  False\n",
              "11111    dead                     difficulty breathing  ...     False  False\n",
              "13331    dead                             cough, fever  ...     False   True\n",
              "14442    dead                       cough, sore throat  ...     False  False\n",
              "18330    dead                    cough, fever, malaise  ...     False   True\n",
              "\n",
              "[5 rows x 7 columns]"
            ]
          },
          "metadata": {
            "tags": []
          },
          "execution_count": 33
        }
      ]
    },
    {
      "cell_type": "code",
      "metadata": {
        "id": "cB7CP5yHfGJr",
        "colab": {
          "base_uri": "https://localhost:8080/",
          "height": 343
        },
        "outputId": "f5681d94-5ae9-4586-95a3-dd1457c9fa20"
      },
      "source": [
        "# patientdata5 = pd.merge(patientdata_chronic[templist],\n",
        "#                 left_on = 'ID', right_on = 'ID')\n",
        "patientdata5 = pd.merge(patientdata5,patientdata_chronic[templist],\n",
        "                        how='left',left_index=True, right_index= True)\n",
        "patientdata5 = pd.merge(patientdata5,patientdata_symptom[templist1], \n",
        "                        how='left',left_index=True, right_index= True)\n",
        "# df_firsts_ghana = df_firsts_ghana.merge(result, left_on='date', right_on='date')\n",
        "\n",
        "patientdata5.head()"
      ],
      "execution_count": null,
      "outputs": [
        {
          "output_type": "execute_result",
          "data": {
            "text/html": [
              "<div>\n",
              "<style scoped>\n",
              "    .dataframe tbody tr th:only-of-type {\n",
              "        vertical-align: middle;\n",
              "    }\n",
              "\n",
              "    .dataframe tbody tr th {\n",
              "        vertical-align: top;\n",
              "    }\n",
              "\n",
              "    .dataframe thead th {\n",
              "        text-align: right;\n",
              "    }\n",
              "</style>\n",
              "<table border=\"1\" class=\"dataframe\">\n",
              "  <thead>\n",
              "    <tr style=\"text-align: right;\">\n",
              "      <th></th>\n",
              "      <th>ID</th>\n",
              "      <th>age</th>\n",
              "      <th>sex</th>\n",
              "      <th>city</th>\n",
              "      <th>province</th>\n",
              "      <th>country</th>\n",
              "      <th>date_onset_symptoms</th>\n",
              "      <th>date_admission_hospital</th>\n",
              "      <th>date_confirmation</th>\n",
              "      <th>symptoms</th>\n",
              "      <th>lives_in_Wuhan</th>\n",
              "      <th>travel_history_dates</th>\n",
              "      <th>travel_history_location</th>\n",
              "      <th>reported_market_exposure</th>\n",
              "      <th>additional_information</th>\n",
              "      <th>chronic_disease_binary</th>\n",
              "      <th>chronic_disease</th>\n",
              "      <th>outcome</th>\n",
              "      <th>date_death_or_discharge</th>\n",
              "      <th>notes_for_discussion</th>\n",
              "      <th>location</th>\n",
              "      <th>country_new</th>\n",
              "      <th>travel_history_binary</th>\n",
              "      <th>hypertens</th>\n",
              "      <th>diabet</th>\n",
              "      <th>diseas</th>\n",
              "      <th>chronic</th>\n",
              "      <th>kidney</th>\n",
              "      <th>acut</th>\n",
              "      <th>pneumonia</th>\n",
              "      <th>respiratori</th>\n",
              "      <th>distress</th>\n",
              "      <th>fever</th>\n",
              "    </tr>\n",
              "  </thead>\n",
              "  <tbody>\n",
              "    <tr>\n",
              "      <th>0</th>\n",
              "      <td>000-1-1</td>\n",
              "      <td>NaN</td>\n",
              "      <td>male</td>\n",
              "      <td>shek lei</td>\n",
              "      <td>hong kong</td>\n",
              "      <td>china</td>\n",
              "      <td>NaN</td>\n",
              "      <td>NaN</td>\n",
              "      <td>14.02.2020</td>\n",
              "      <td>NaN</td>\n",
              "      <td>NaN</td>\n",
              "      <td>22.01.2020</td>\n",
              "      <td>china</td>\n",
              "      <td>NaN</td>\n",
              "      <td>case 55; mainland china travel via the lok ma ...</td>\n",
              "      <td>False</td>\n",
              "      <td>NaN</td>\n",
              "      <td>dead</td>\n",
              "      <td>NaN</td>\n",
              "      <td>NaN</td>\n",
              "      <td>shek lei</td>\n",
              "      <td>china</td>\n",
              "      <td>NaN</td>\n",
              "      <td>NaN</td>\n",
              "      <td>NaN</td>\n",
              "      <td>NaN</td>\n",
              "      <td>NaN</td>\n",
              "      <td>NaN</td>\n",
              "      <td>NaN</td>\n",
              "      <td>NaN</td>\n",
              "      <td>NaN</td>\n",
              "      <td>NaN</td>\n",
              "      <td>NaN</td>\n",
              "    </tr>\n",
              "    <tr>\n",
              "      <th>1</th>\n",
              "      <td>000-1-10</td>\n",
              "      <td>78</td>\n",
              "      <td>male</td>\n",
              "      <td>vo euganeo</td>\n",
              "      <td>veneto</td>\n",
              "      <td>italy</td>\n",
              "      <td>NaN</td>\n",
              "      <td>NaN</td>\n",
              "      <td>21.02.2020</td>\n",
              "      <td>NaN</td>\n",
              "      <td>NaN</td>\n",
              "      <td>NaN</td>\n",
              "      <td>NaN</td>\n",
              "      <td>NaN</td>\n",
              "      <td>hospitalized on 12.02.2020 for other reasons</td>\n",
              "      <td>False</td>\n",
              "      <td>NaN</td>\n",
              "      <td>dead</td>\n",
              "      <td>22.02.2020</td>\n",
              "      <td>NaN</td>\n",
              "      <td>vo' euganeo</td>\n",
              "      <td>italy</td>\n",
              "      <td>NaN</td>\n",
              "      <td>NaN</td>\n",
              "      <td>NaN</td>\n",
              "      <td>NaN</td>\n",
              "      <td>NaN</td>\n",
              "      <td>NaN</td>\n",
              "      <td>NaN</td>\n",
              "      <td>NaN</td>\n",
              "      <td>NaN</td>\n",
              "      <td>NaN</td>\n",
              "      <td>NaN</td>\n",
              "    </tr>\n",
              "    <tr>\n",
              "      <th>1112</th>\n",
              "      <td>000-1-11</td>\n",
              "      <td>68</td>\n",
              "      <td>female</td>\n",
              "      <td>cremona</td>\n",
              "      <td>lombardia</td>\n",
              "      <td>italy</td>\n",
              "      <td>NaN</td>\n",
              "      <td>NaN</td>\n",
              "      <td>21.02.2020</td>\n",
              "      <td>NaN</td>\n",
              "      <td>NaN</td>\n",
              "      <td>NaN</td>\n",
              "      <td>NaN</td>\n",
              "      <td>NaN</td>\n",
              "      <td>NaN</td>\n",
              "      <td>False</td>\n",
              "      <td>iran; kuala lumpur, federal territory of kuala...</td>\n",
              "      <td>dead</td>\n",
              "      <td>23.02.2020</td>\n",
              "      <td>i believe is cremona, not codogno</td>\n",
              "      <td>NaN</td>\n",
              "      <td>italy</td>\n",
              "      <td>NaN</td>\n",
              "      <td>False</td>\n",
              "      <td>False</td>\n",
              "      <td>False</td>\n",
              "      <td>False</td>\n",
              "      <td>False</td>\n",
              "      <td>NaN</td>\n",
              "      <td>NaN</td>\n",
              "      <td>NaN</td>\n",
              "      <td>NaN</td>\n",
              "      <td>NaN</td>\n",
              "    </tr>\n",
              "    <tr>\n",
              "      <th>2223</th>\n",
              "      <td>000-1-12</td>\n",
              "      <td>88</td>\n",
              "      <td>male</td>\n",
              "      <td>NaN</td>\n",
              "      <td>NaN</td>\n",
              "      <td>san marino</td>\n",
              "      <td>NaN</td>\n",
              "      <td>25.02.2020</td>\n",
              "      <td>27.02.2020</td>\n",
              "      <td>NaN</td>\n",
              "      <td>NaN</td>\n",
              "      <td>NaN</td>\n",
              "      <td>NaN</td>\n",
              "      <td>NaN</td>\n",
              "      <td>already hospitalized in rimini on 25.02.2020</td>\n",
              "      <td>False</td>\n",
              "      <td>NaN</td>\n",
              "      <td>dead</td>\n",
              "      <td>01.03.2020</td>\n",
              "      <td>NaN</td>\n",
              "      <td>NaN</td>\n",
              "      <td>san marino</td>\n",
              "      <td>NaN</td>\n",
              "      <td>NaN</td>\n",
              "      <td>NaN</td>\n",
              "      <td>NaN</td>\n",
              "      <td>NaN</td>\n",
              "      <td>NaN</td>\n",
              "      <td>NaN</td>\n",
              "      <td>NaN</td>\n",
              "      <td>NaN</td>\n",
              "      <td>NaN</td>\n",
              "      <td>NaN</td>\n",
              "    </tr>\n",
              "    <tr>\n",
              "      <th>3334</th>\n",
              "      <td>000-1-13</td>\n",
              "      <td>95</td>\n",
              "      <td>female</td>\n",
              "      <td>macquarie park</td>\n",
              "      <td>new south wales</td>\n",
              "      <td>australia</td>\n",
              "      <td>NaN</td>\n",
              "      <td>NaN</td>\n",
              "      <td>04.03.2020</td>\n",
              "      <td>NaN</td>\n",
              "      <td>NaN</td>\n",
              "      <td>NaN</td>\n",
              "      <td>NaN</td>\n",
              "      <td>NaN</td>\n",
              "      <td>detected post mortem</td>\n",
              "      <td>False</td>\n",
              "      <td>NaN</td>\n",
              "      <td>dead</td>\n",
              "      <td>03.03.2020</td>\n",
              "      <td>NaN</td>\n",
              "      <td>macquarie park</td>\n",
              "      <td>australia</td>\n",
              "      <td>NaN</td>\n",
              "      <td>NaN</td>\n",
              "      <td>NaN</td>\n",
              "      <td>NaN</td>\n",
              "      <td>NaN</td>\n",
              "      <td>NaN</td>\n",
              "      <td>NaN</td>\n",
              "      <td>NaN</td>\n",
              "      <td>NaN</td>\n",
              "      <td>NaN</td>\n",
              "      <td>NaN</td>\n",
              "    </tr>\n",
              "  </tbody>\n",
              "</table>\n",
              "</div>"
            ],
            "text/plain": [
              "            ID  age     sex  ... respiratori distress fever\n",
              "0      000-1-1  NaN    male  ...         NaN      NaN   NaN\n",
              "1     000-1-10   78    male  ...         NaN      NaN   NaN\n",
              "1112  000-1-11   68  female  ...         NaN      NaN   NaN\n",
              "2223  000-1-12   88    male  ...         NaN      NaN   NaN\n",
              "3334  000-1-13   95  female  ...         NaN      NaN   NaN\n",
              "\n",
              "[5 rows x 33 columns]"
            ]
          },
          "metadata": {
            "tags": []
          },
          "execution_count": 34
        }
      ]
    },
    {
      "cell_type": "code",
      "metadata": {
        "id": "G3S8aRRfdw8t",
        "colab": {
          "base_uri": "https://localhost:8080/",
          "height": 430
        },
        "outputId": "0afe98ff-59a2-452c-8467-7304d3ac8293"
      },
      "source": [
        "patientdata_sym_disch.rename(columns={\"Bin_Dates\": \"Bin_Dates_sym_disch\"}, inplace=True)\n",
        "patientdata_hosp_disch.rename(columns={\"Bin_Dates\": \"Bin_Dates_hosp_disch\"}, inplace=True)\n",
        "\n",
        "#merge the two dates and the ages too :)\n",
        "patientdata5 = pd.merge(patientdata5,patientdata_sym_disch, \n",
        "                        how='left',left_index=True, right_index= True)\n",
        "patientdata5 = pd.merge(patientdata5,patientdata_hosp_disch, \n",
        "                        how='left',left_index=True, right_index= True)\n",
        "patientdata5 = pd.merge(patientdata5,patientdata_ages,\n",
        "                        how=\"left\",left_index=True, right_index= True)\n",
        "patientdata5.head()\n"
      ],
      "execution_count": null,
      "outputs": [
        {
          "output_type": "stream",
          "text": [
            "/usr/local/lib/python3.6/dist-packages/pandas/core/frame.py:4303: SettingWithCopyWarning: \n",
            "A value is trying to be set on a copy of a slice from a DataFrame\n",
            "\n",
            "See the caveats in the documentation: https://pandas.pydata.org/pandas-docs/stable/user_guide/indexing.html#returning-a-view-versus-a-copy\n",
            "  errors=errors,\n"
          ],
          "name": "stderr"
        },
        {
          "output_type": "execute_result",
          "data": {
            "text/html": [
              "<div>\n",
              "<style scoped>\n",
              "    .dataframe tbody tr th:only-of-type {\n",
              "        vertical-align: middle;\n",
              "    }\n",
              "\n",
              "    .dataframe tbody tr th {\n",
              "        vertical-align: top;\n",
              "    }\n",
              "\n",
              "    .dataframe thead th {\n",
              "        text-align: right;\n",
              "    }\n",
              "</style>\n",
              "<table border=\"1\" class=\"dataframe\">\n",
              "  <thead>\n",
              "    <tr style=\"text-align: right;\">\n",
              "      <th></th>\n",
              "      <th>ID</th>\n",
              "      <th>age</th>\n",
              "      <th>sex</th>\n",
              "      <th>city</th>\n",
              "      <th>province</th>\n",
              "      <th>country</th>\n",
              "      <th>date_onset_symptoms</th>\n",
              "      <th>date_admission_hospital</th>\n",
              "      <th>date_confirmation</th>\n",
              "      <th>symptoms</th>\n",
              "      <th>lives_in_Wuhan</th>\n",
              "      <th>travel_history_dates</th>\n",
              "      <th>travel_history_location</th>\n",
              "      <th>reported_market_exposure</th>\n",
              "      <th>additional_information</th>\n",
              "      <th>chronic_disease_binary</th>\n",
              "      <th>chronic_disease</th>\n",
              "      <th>outcome</th>\n",
              "      <th>date_death_or_discharge</th>\n",
              "      <th>notes_for_discussion</th>\n",
              "      <th>location</th>\n",
              "      <th>country_new</th>\n",
              "      <th>travel_history_binary</th>\n",
              "      <th>hypertens</th>\n",
              "      <th>diabet</th>\n",
              "      <th>diseas</th>\n",
              "      <th>chronic</th>\n",
              "      <th>kidney</th>\n",
              "      <th>acut</th>\n",
              "      <th>pneumonia</th>\n",
              "      <th>respiratori</th>\n",
              "      <th>distress</th>\n",
              "      <th>fever</th>\n",
              "      <th>Bin_Dates_sym_disch</th>\n",
              "      <th>Bin_Dates_hosp_disch</th>\n",
              "      <th>age_bins</th>\n",
              "    </tr>\n",
              "  </thead>\n",
              "  <tbody>\n",
              "    <tr>\n",
              "      <th>0</th>\n",
              "      <td>000-1-1</td>\n",
              "      <td>NaN</td>\n",
              "      <td>male</td>\n",
              "      <td>shek lei</td>\n",
              "      <td>hong kong</td>\n",
              "      <td>china</td>\n",
              "      <td>NaN</td>\n",
              "      <td>NaN</td>\n",
              "      <td>14.02.2020</td>\n",
              "      <td>NaN</td>\n",
              "      <td>NaN</td>\n",
              "      <td>22.01.2020</td>\n",
              "      <td>china</td>\n",
              "      <td>NaN</td>\n",
              "      <td>case 55; mainland china travel via the lok ma ...</td>\n",
              "      <td>False</td>\n",
              "      <td>NaN</td>\n",
              "      <td>dead</td>\n",
              "      <td>NaN</td>\n",
              "      <td>NaN</td>\n",
              "      <td>shek lei</td>\n",
              "      <td>china</td>\n",
              "      <td>NaN</td>\n",
              "      <td>NaN</td>\n",
              "      <td>NaN</td>\n",
              "      <td>NaN</td>\n",
              "      <td>NaN</td>\n",
              "      <td>NaN</td>\n",
              "      <td>NaN</td>\n",
              "      <td>NaN</td>\n",
              "      <td>NaN</td>\n",
              "      <td>NaN</td>\n",
              "      <td>NaN</td>\n",
              "      <td>NaN</td>\n",
              "      <td>NaN</td>\n",
              "      <td>NaN</td>\n",
              "    </tr>\n",
              "    <tr>\n",
              "      <th>1</th>\n",
              "      <td>000-1-10</td>\n",
              "      <td>78</td>\n",
              "      <td>male</td>\n",
              "      <td>vo euganeo</td>\n",
              "      <td>veneto</td>\n",
              "      <td>italy</td>\n",
              "      <td>NaN</td>\n",
              "      <td>NaN</td>\n",
              "      <td>21.02.2020</td>\n",
              "      <td>NaN</td>\n",
              "      <td>NaN</td>\n",
              "      <td>NaN</td>\n",
              "      <td>NaN</td>\n",
              "      <td>NaN</td>\n",
              "      <td>hospitalized on 12.02.2020 for other reasons</td>\n",
              "      <td>False</td>\n",
              "      <td>NaN</td>\n",
              "      <td>dead</td>\n",
              "      <td>22.02.2020</td>\n",
              "      <td>NaN</td>\n",
              "      <td>vo' euganeo</td>\n",
              "      <td>italy</td>\n",
              "      <td>NaN</td>\n",
              "      <td>NaN</td>\n",
              "      <td>NaN</td>\n",
              "      <td>NaN</td>\n",
              "      <td>NaN</td>\n",
              "      <td>NaN</td>\n",
              "      <td>NaN</td>\n",
              "      <td>NaN</td>\n",
              "      <td>NaN</td>\n",
              "      <td>NaN</td>\n",
              "      <td>NaN</td>\n",
              "      <td>NaN</td>\n",
              "      <td>NaN</td>\n",
              "      <td>(69.0, 79.0]</td>\n",
              "    </tr>\n",
              "    <tr>\n",
              "      <th>1112</th>\n",
              "      <td>000-1-11</td>\n",
              "      <td>68</td>\n",
              "      <td>female</td>\n",
              "      <td>cremona</td>\n",
              "      <td>lombardia</td>\n",
              "      <td>italy</td>\n",
              "      <td>NaN</td>\n",
              "      <td>NaN</td>\n",
              "      <td>21.02.2020</td>\n",
              "      <td>NaN</td>\n",
              "      <td>NaN</td>\n",
              "      <td>NaN</td>\n",
              "      <td>NaN</td>\n",
              "      <td>NaN</td>\n",
              "      <td>NaN</td>\n",
              "      <td>False</td>\n",
              "      <td>iran; kuala lumpur, federal territory of kuala...</td>\n",
              "      <td>dead</td>\n",
              "      <td>23.02.2020</td>\n",
              "      <td>i believe is cremona, not codogno</td>\n",
              "      <td>NaN</td>\n",
              "      <td>italy</td>\n",
              "      <td>NaN</td>\n",
              "      <td>False</td>\n",
              "      <td>False</td>\n",
              "      <td>False</td>\n",
              "      <td>False</td>\n",
              "      <td>False</td>\n",
              "      <td>NaN</td>\n",
              "      <td>NaN</td>\n",
              "      <td>NaN</td>\n",
              "      <td>NaN</td>\n",
              "      <td>NaN</td>\n",
              "      <td>NaN</td>\n",
              "      <td>NaN</td>\n",
              "      <td>(59.0, 69.0]</td>\n",
              "    </tr>\n",
              "    <tr>\n",
              "      <th>2223</th>\n",
              "      <td>000-1-12</td>\n",
              "      <td>88</td>\n",
              "      <td>male</td>\n",
              "      <td>NaN</td>\n",
              "      <td>NaN</td>\n",
              "      <td>san marino</td>\n",
              "      <td>NaN</td>\n",
              "      <td>25.02.2020</td>\n",
              "      <td>27.02.2020</td>\n",
              "      <td>NaN</td>\n",
              "      <td>NaN</td>\n",
              "      <td>NaN</td>\n",
              "      <td>NaN</td>\n",
              "      <td>NaN</td>\n",
              "      <td>already hospitalized in rimini on 25.02.2020</td>\n",
              "      <td>False</td>\n",
              "      <td>NaN</td>\n",
              "      <td>dead</td>\n",
              "      <td>01.03.2020</td>\n",
              "      <td>NaN</td>\n",
              "      <td>NaN</td>\n",
              "      <td>san marino</td>\n",
              "      <td>NaN</td>\n",
              "      <td>NaN</td>\n",
              "      <td>NaN</td>\n",
              "      <td>NaN</td>\n",
              "      <td>NaN</td>\n",
              "      <td>NaN</td>\n",
              "      <td>NaN</td>\n",
              "      <td>NaN</td>\n",
              "      <td>NaN</td>\n",
              "      <td>NaN</td>\n",
              "      <td>NaN</td>\n",
              "      <td>NaN</td>\n",
              "      <td>(0.0, 14.0]</td>\n",
              "      <td>(79.0, 89.0]</td>\n",
              "    </tr>\n",
              "    <tr>\n",
              "      <th>3334</th>\n",
              "      <td>000-1-13</td>\n",
              "      <td>95</td>\n",
              "      <td>female</td>\n",
              "      <td>macquarie park</td>\n",
              "      <td>new south wales</td>\n",
              "      <td>australia</td>\n",
              "      <td>NaN</td>\n",
              "      <td>NaN</td>\n",
              "      <td>04.03.2020</td>\n",
              "      <td>NaN</td>\n",
              "      <td>NaN</td>\n",
              "      <td>NaN</td>\n",
              "      <td>NaN</td>\n",
              "      <td>NaN</td>\n",
              "      <td>detected post mortem</td>\n",
              "      <td>False</td>\n",
              "      <td>NaN</td>\n",
              "      <td>dead</td>\n",
              "      <td>03.03.2020</td>\n",
              "      <td>NaN</td>\n",
              "      <td>macquarie park</td>\n",
              "      <td>australia</td>\n",
              "      <td>NaN</td>\n",
              "      <td>NaN</td>\n",
              "      <td>NaN</td>\n",
              "      <td>NaN</td>\n",
              "      <td>NaN</td>\n",
              "      <td>NaN</td>\n",
              "      <td>NaN</td>\n",
              "      <td>NaN</td>\n",
              "      <td>NaN</td>\n",
              "      <td>NaN</td>\n",
              "      <td>NaN</td>\n",
              "      <td>NaN</td>\n",
              "      <td>NaN</td>\n",
              "      <td>(89.0, 99.0]</td>\n",
              "    </tr>\n",
              "  </tbody>\n",
              "</table>\n",
              "</div>"
            ],
            "text/plain": [
              "            ID  age  ... Bin_Dates_hosp_disch      age_bins\n",
              "0      000-1-1  NaN  ...                  NaN           NaN\n",
              "1     000-1-10   78  ...                  NaN  (69.0, 79.0]\n",
              "1112  000-1-11   68  ...                  NaN  (59.0, 69.0]\n",
              "2223  000-1-12   88  ...          (0.0, 14.0]  (79.0, 89.0]\n",
              "3334  000-1-13   95  ...                  NaN  (89.0, 99.0]\n",
              "\n",
              "[5 rows x 36 columns]"
            ]
          },
          "metadata": {
            "tags": []
          },
          "execution_count": 35
        }
      ]
    },
    {
      "cell_type": "code",
      "metadata": {
        "id": "kZprzy_Zufei"
      },
      "source": [
        "#change nan in specific columns to \"remove\"\n",
        "# patientdata5[\"Bin_Dates_hosp_disch\"].replace(np.nan,\"remove\", inplace= True,regex = True)\n",
        "# patientdata5['Bin_Dates_hosp_disch'] = patientdata5['Bin_Dates_hosp_disch'].replace(np.nan, \"\")\n",
        "# patientdata5[\"Bin_Dates_hosp_disch\"].unique()\n",
        "patientdata5.head()\n",
        "\n",
        "# #one-hot encoding\n",
        "# patientdata5_one_hot = patientdata5[[\"hypertens_x\",\t\"diabet_x\",\n",
        "#                   \"diseas_x\", \"chronic_x\", \"kidney_x\",\"acut_x\",\t\"pneumonia_x\",\n",
        "#                   \"respiratori_x\",\"distress_x\",\"fever_x\",\"Bin_Dates_sym_disch\",\n",
        "#                 \t\"Bin_Dates_hosp_disch\",\"age\",\"sex\"]].copy() \n",
        "patientdata5_one_hot = patientdata5[[\"hypertens\",\t\"diabet\",\n",
        "                  \"diseas\", \"chronic\", \"kidney\",\"acut\",\t\"pneumonia\",\n",
        "                  \"respiratori\",\"distress\",\"fever\",\"Bin_Dates_sym_disch\",\n",
        "                \t\"Bin_Dates_hosp_disch\",\"age_bins\",\"sex\"]].copy() \n",
        "patientdata5_one_hot = pd.get_dummies(patientdata5_one_hot, \n",
        "                                      columns=patientdata5_one_hot.columns) #one hot encoding happens here\n",
        "patientdata5= patientdata5.merge(patientdata5_one_hot, left_on=patientdata5.index,\n",
        "                                 right_on=patientdata5_one_hot.index) #add on the classes again  \n",
        "# df5 = df5.drop(columns=['Work Rate',\"key_0\",\"Position\"]) "
      ],
      "execution_count": null,
      "outputs": []
    },
    {
      "cell_type": "code",
      "metadata": {
        "id": "7MbO6ruDEDy3"
      },
      "source": [
        "#drop all unneeded columns\n",
        "patientdata5 = patientdata5.drop(columns=[\"key_0\",\"ID\",'city','age',\n",
        " 'province',\n",
        " 'country',\n",
        " 'date_onset_symptoms',\n",
        " 'date_admission_hospital',\n",
        " 'date_confirmation',\n",
        " 'symptoms',\n",
        " 'lives_in_Wuhan',\n",
        " 'travel_history_dates',\n",
        " 'travel_history_location',\n",
        " 'reported_market_exposure',\n",
        " 'additional_information',\n",
        " 'chronic_disease_binary',\n",
        " 'chronic_disease',\n",
        " 'date_death_or_discharge',\n",
        " 'notes_for_discussion',\n",
        " 'location',\n",
        " 'country_new',\n",
        " 'travel_history_binary',\n",
        " 'hypertens',\n",
        " 'diabet',\n",
        " 'diseas',\n",
        " 'chronic',\n",
        " 'kidney',\n",
        " 'acut',\n",
        " 'pneumonia',\n",
        " 'respiratori',\n",
        " 'distress',\n",
        " 'fever',\n",
        " 'sex',\n",
        " 'age_bins',\n",
        " 'Bin_Dates_sym_disch',\n",
        " 'Bin_Dates_hosp_disch',])\n",
        "patientdata5.head()\n",
        "patientdata6 = patientdata5.copy()"
      ],
      "execution_count": null,
      "outputs": []
    },
    {
      "cell_type": "markdown",
      "metadata": {
        "id": "qkw_TtiSW4jk"
      },
      "source": [
        "## Predicting the probability that a patient will recover given information on _age, sex, chronic disease, length of hospital stay, and symptoms_"
      ]
    },
    {
      "cell_type": "code",
      "metadata": {
        "id": "t70d5bGxCAMb",
        "colab": {
          "base_uri": "https://localhost:8080/"
        },
        "outputId": "fc3fd41b-cd92-4531-b89e-9fbc71e5f566"
      },
      "source": [
        "#Logistic Regression :)\n",
        "#rename the right foot as 1 and the left foot as 0:\n",
        "patientdata5[\"outcome\"].replace(\"recovered\",1, inplace= True)\n",
        "patientdata5[\"outcome\"].replace(\"dead\",0, inplace= True)\n",
        "\n",
        "X = patientdata5.drop(columns=[\"outcome\"])\n",
        "y = patientdata5[\"outcome\"]\n",
        "\n",
        "#do train test split\n",
        "features = patientdata5.drop(\"outcome\", axis=1) #dropping target from features dataframe so you have only your features \n",
        "features\n",
        "X_train, X_test, y_train, y_test = train_test_split(features,y, random_state=1, test_size = 0.25,stratify=y)\n",
        "print(X_train.shape, y_train.shape)\n",
        "print(X_test.shape, y_test.shape)\n",
        "\n",
        "# Scale separately\n",
        "scaler = MinMaxScaler()\n",
        "X_train = scaler.fit_transform(X_train)\n",
        "X_test = scaler.transform(X_test)\n",
        "\n",
        "\n",
        "#initialize the model\n",
        "lm = LogisticRegression(solver='lbfgs',  \n",
        "                           C=100, max_iter=1000000)\n",
        "\n",
        "#fit model\n",
        "lm.fit(X_train, y_train)\n",
        "\n",
        "#find coef and intercept\n",
        "w = lm.coef_\n",
        "w0 = lm.intercept_\n",
        "\n",
        "# print('w =', w)\n",
        "print('w0 =', w0)\n",
        "print(\"Accuracy score: \", lm.score(X_test, y_test)) \n"
      ],
      "execution_count": null,
      "outputs": [
        {
          "output_type": "stream",
          "text": [
            "(77493, 35) (77493,)\n",
            "(25831, 35) (25831,)\n",
            "w0 = [3.01694406]\n",
            "Accuracy score:  0.947814641322442\n"
          ],
          "name": "stdout"
        }
      ]
    },
    {
      "cell_type": "code",
      "metadata": {
        "id": "eBTVd16CIvPo",
        "colab": {
          "base_uri": "https://localhost:8080/",
          "height": 859
        },
        "outputId": "e3980d2b-c3c6-4239-e842-2a1e97b9e651"
      },
      "source": [
        "#Evaluating Model:\n",
        "\n",
        "#Predict labels:\n",
        "y_predict = lm.predict(X_test)\n",
        "print(\"Prediction of y-values: \",y_predict)\n",
        "#confusion matrix\n",
        "cnf_matrix = confusion_matrix(y_test, y_predict)\n",
        "print(\"Confusion matrix: \",cnf_matrix)\n",
        "#classification\n",
        "print(\"Classification report: \",classification_report(y_test, y_predict))\n",
        "\n",
        "pred = lm.predict_proba(X_test)[:,1] #predicting probability\n",
        "pred\n",
        "print(\"AUC: \", roc_auc_score(y_test, pred))\n",
        "\n",
        "#Analysis (Confusion Matrix):\n",
        "fig, ax = plt.subplots()\n",
        "tick_marks = np.arange(len([\"0\",\"1\"]))\n",
        "plt.xticks(tick_marks, [\"0\",\"1\"])\n",
        "plt.yticks(tick_marks, [\"0\",\"1\"])\n",
        "sns.heatmap(pd.DataFrame(cnf_matrix), annot=True, cmap=None ,fmt='g')\n",
        "ax.xaxis.set_label_position(\"top\")\n",
        "plt.tight_layout()\n",
        "plt.title('Confusion matrix')\n",
        "plt.ylabel('Actual label')\n",
        "plt.xlabel('Predicted label')"
      ],
      "execution_count": null,
      "outputs": [
        {
          "output_type": "stream",
          "text": [
            "Prediction of y-values:  [1 1 1 ... 1 1 1]\n",
            "Confusion matrix:  [[  166  1336]\n",
            " [   12 24317]]\n",
            "Classification report:                precision    recall  f1-score   support\n",
            "\n",
            "           0       0.93      0.11      0.20      1502\n",
            "           1       0.95      1.00      0.97     24329\n",
            "\n",
            "    accuracy                           0.95     25831\n",
            "   macro avg       0.94      0.56      0.59     25831\n",
            "weighted avg       0.95      0.95      0.93     25831\n",
            "\n",
            "AUC:  0.6082501613615704\n"
          ],
          "name": "stdout"
        },
        {
          "output_type": "execute_result",
          "data": {
            "text/plain": [
              "Text(0.5, 954.4, 'Predicted label')"
            ]
          },
          "metadata": {
            "tags": []
          },
          "execution_count": 39
        },
        {
          "output_type": "display_data",
          "data": {
            "image/png": "[encoded data removed]",
            "text/plain": [
              "<Figure size 1800x1080 with 2 Axes>"
            ]
          },
          "metadata": {
            "tags": []
          }
        }
      ]
    },
    {
      "cell_type": "markdown",
      "metadata": {
        "id": "lu5OoHu-fZup"
      },
      "source": [
        "#Model 4: Multinomial Logistic Regression"
      ]
    },
    {
      "cell_type": "markdown",
      "metadata": {
        "id": "3qF5hkCRdSOP"
      },
      "source": [
        "**Problem:** The class labels (lived/died) are too unbalanced. We have a hard time predicting whether a patient survives. "
      ]
    },
    {
      "cell_type": "code",
      "metadata": {
        "id": "QWo0Q-oofshO"
      },
      "source": [
        "patientdata[\"outcome\"].value_counts() \n",
        "patientdata_score = patientdata.copy()\n",
        "\n",
        "#only extracting rows for where the patient is still hospitalized or similar:\n",
        "# dropping = [\"hospitalized\", \"symptoms only improved with cough. currently hospitalized for follow-up.\",\n",
        "#         \"alive\",\"stable\",\"discharge\",\"stable condition\",\"discharged\",\"discharged from hospital\",\n",
        "#                                  \"released from quarantine\",\n",
        "#                                  \"recovering at home 03.03.2020\"]\n",
        "dropping = [\"hospitalized\", \"symptoms only improved with cough. currently hospitalized for follow-up.\",\n",
        "            \"https://www.mspbs.gov.py/covid-19.php\"]\n",
        "\n",
        "for i in dropping:\n",
        "  patientdata_score.drop(patientdata_score.loc[patientdata_score['outcome']==i].index, inplace=True)\n",
        "patientdata_score[\"outcome\"].value_counts()\n",
        "\n",
        "#finding difference between dates of hospital admission and dates of death/discharge\n",
        "#change \".\" to \"\\\"\n",
        "patientdata_score[\"date_admission_hospital\"] = patientdata_score[\"date_admission_hospital\"].str.replace('.', '/')\n",
        "patientdata_score[\"date_death_or_discharge\"] = patientdata_score[\"date_death_or_discharge\"].str.replace('.', '/')\n",
        "#convert to datetime\n",
        "patientdata_score['date_admission_hospital'] =  pd.to_datetime(\n",
        "    patientdata_score['date_admission_hospital'], format='%d/%m/%Y', errors=\"coerce\")\n",
        "patientdata_score['date_death_or_discharge'] =  pd.to_datetime(\n",
        "    patientdata_score['date_death_or_discharge'], format='%d/%m/%Y', errors=\"coerce\")"
      ],
      "execution_count": null,
      "outputs": []
    },
    {
      "cell_type": "code",
      "metadata": {
        "id": "8CxZv6sapaCC"
      },
      "source": [
        "patientdata_score[\"sickness_score\"] = 0\n",
        "\n",
        "# #for those who are dead, make difference of dates a 33\n",
        "templist2 = [\"deceased\",\"died\",\"death\",\"dead\",\"critical condition\",\n",
        "                                 \"treated in an intensive care unit (14.02.2020)\",\n",
        "        \"severe\",\"critical condition, intubated as of 14.02.2020\",\"severe illness\",\n",
        "        \"unstable\"]\n",
        "for i in templist2:\n",
        "  patientdata_score.loc[patientdata_score.outcome == i, 'sickness_score'] = 33\n",
        "\n",
        "#difference between dates\n",
        "patientdata_score[\"difference_between_dates\"] = patientdata_score[\"date_death_or_discharge\"] - patientdata_score[\"date_admission_hospital\"]\n",
        "# #convert days to integers\n",
        "patientdata_score['difference_between_dates'] = patientdata_score['difference_between_dates'].dt.days.astype('int16', errors='ignore')\n",
        "patientdata_score.shape\n",
        "patientdata_score['difference_between_dates'].value_counts()\n",
        "#drop rows with empty difference between dates\n",
        "patientdata_score.dropna(subset=[\"difference_between_dates\"],inplace=True)\n",
        "\n",
        "#creating target\n",
        "#set sickness score of 33 for those whose difference of dates is greater than 32\n",
        "patientdata_score.loc[patientdata_score.difference_between_dates > 32, 'sickness_score'] = 33\n",
        "#set other sickness scores with respect to the difference of dates\n",
        "patientdata_score.loc[patientdata_score.difference_between_dates < 33 , 'sickness_score'] = patientdata_score.difference_between_dates\n",
        "\n",
        "# patientdata_score[\"sickness_score\"].value_counts()"
      ],
      "execution_count": null,
      "outputs": []
    },
    {
      "cell_type": "code",
      "metadata": {
        "id": "SKC8XA083USv",
        "colab": {
          "base_uri": "https://localhost:8080/"
        },
        "outputId": "36a47606-9fad-4b0b-dfaa-d8a5c7cd6143"
      },
      "source": [
        "#Select features: \n",
        "# patientdata_score.dropna(subset=[\"date_admission_hospital\",\"date_death_or_discharge\"],inplace=True)\n",
        "patientdata7 = patientdata_score.copy()\n",
        "patientdata_score[[\"age\",\"sex\",\"chronic_disease_binary\",\"sickness_score\"]].dropna().shape\n",
        "patientdata_score.shape\n",
        "#prepare age column\n",
        "patientdata_score[\"age\"]=patientdata_score[\"age\"].astype(int,errors=\"ignore\")\n",
        "patientdata_score[\"age\"].unique()\n",
        "#drop unusual age values\n",
        "templist3 = ['80-89',\"50-59\",\"60-69\",\"70-79\",'20-29']\n",
        "for i in templist3:\n",
        "  df = patientdata_score[patientdata_score.age == i] \n",
        "  patientdata_score.drop(df.index,inplace=True)\n",
        "print(df.index)\n",
        "patientdata_score[\"age\"].unique()\n",
        "#binarize sex column\n",
        "patientdata_score[\"sex\"].replace([\"male\"],1, inplace= True)\n",
        "patientdata_score[\"sex\"].replace([\"female\"],0, inplace= True)\n",
        "#binarize chronic disease column\n",
        "patientdata_score[\"chronic_disease_binary\"].replace([True],1, inplace= True)\n",
        "patientdata_score[\"chronic_disease_binary\"].replace([False],0, inplace= True)\n",
        "#now extract these columns\n",
        "patientdata_score = patientdata_score[[\"age\",\"sex\",\"chronic_disease_binary\",\"sickness_score\"]]\n",
        "\n",
        "patientdata_score[\"age\"] = patientdata_score[\"age\"].astype(float)\n",
        "patientdata_score = patientdata_score.dropna()\n",
        "patientdata_score.shape\n",
        "# patientdata_score[\"age\"].unique()"
      ],
      "execution_count": null,
      "outputs": [
        {
          "output_type": "stream",
          "text": [
            "Int64Index([8667, 658603], dtype='int64')\n"
          ],
          "name": "stdout"
        },
        {
          "output_type": "execute_result",
          "data": {
            "text/plain": [
              "(775, 4)"
            ]
          },
          "metadata": {
            "tags": []
          },
          "execution_count": 42
        }
      ]
    },
    {
      "cell_type": "code",
      "metadata": {
        "id": "YP32A-D9Beta",
        "colab": {
          "base_uri": "https://localhost:8080/",
          "height": 239
        },
        "outputId": "f009558b-5e19-455b-bb88-28d2fcb21c92"
      },
      "source": [
        ""
      ],
      "execution_count": null,
      "outputs": [
        {
          "output_type": "execute_result",
          "data": {
            "text/html": [
              "<div>\n",
              "<style scoped>\n",
              "    .dataframe tbody tr th:only-of-type {\n",
              "        vertical-align: middle;\n",
              "    }\n",
              "\n",
              "    .dataframe tbody tr th {\n",
              "        vertical-align: top;\n",
              "    }\n",
              "\n",
              "    .dataframe thead th {\n",
              "        text-align: right;\n",
              "    }\n",
              "</style>\n",
              "<table border=\"1\" class=\"dataframe\">\n",
              "  <thead>\n",
              "    <tr style=\"text-align: right;\">\n",
              "      <th></th>\n",
              "      <th>sickness_score</th>\n",
              "      <th>hypertens_False</th>\n",
              "      <th>hypertens_True</th>\n",
              "      <th>diabet_False</th>\n",
              "      <th>diabet_True</th>\n",
              "      <th>diseas_False</th>\n",
              "      <th>diseas_True</th>\n",
              "      <th>chronic_False</th>\n",
              "      <th>chronic_True</th>\n",
              "      <th>kidney_False</th>\n",
              "      <th>kidney_True</th>\n",
              "      <th>acut_False</th>\n",
              "      <th>acut_True</th>\n",
              "      <th>pneumonia_False</th>\n",
              "      <th>pneumonia_True</th>\n",
              "      <th>respiratori_False</th>\n",
              "      <th>distress_False</th>\n",
              "      <th>distress_True</th>\n",
              "      <th>fever_False</th>\n",
              "      <th>fever_True</th>\n",
              "      <th>Bin_Dates_sym_disch_(0, 14]</th>\n",
              "      <th>Bin_Dates_sym_disch_(14, 200]</th>\n",
              "      <th>Bin_Dates_hosp_disch_(0, 14]</th>\n",
              "      <th>Bin_Dates_hosp_disch_(14, 200]</th>\n",
              "      <th>age_bins_(0, 9]</th>\n",
              "      <th>age_bins_(9, 19]</th>\n",
              "      <th>age_bins_(19, 29]</th>\n",
              "      <th>age_bins_(29, 39]</th>\n",
              "      <th>age_bins_(39, 49]</th>\n",
              "      <th>age_bins_(49, 59]</th>\n",
              "      <th>age_bins_(59, 69]</th>\n",
              "      <th>age_bins_(69, 79]</th>\n",
              "      <th>age_bins_(79, 89]</th>\n",
              "      <th>age_bins_(89, 99]</th>\n",
              "      <th>sex_female</th>\n",
              "      <th>sex_male</th>\n",
              "    </tr>\n",
              "  </thead>\n",
              "  <tbody>\n",
              "    <tr>\n",
              "      <th>446</th>\n",
              "      <td>17.0</td>\n",
              "      <td>0</td>\n",
              "      <td>0</td>\n",
              "      <td>0</td>\n",
              "      <td>0</td>\n",
              "      <td>0</td>\n",
              "      <td>0</td>\n",
              "      <td>0</td>\n",
              "      <td>0</td>\n",
              "      <td>0</td>\n",
              "      <td>0</td>\n",
              "      <td>0</td>\n",
              "      <td>0</td>\n",
              "      <td>0</td>\n",
              "      <td>0</td>\n",
              "      <td>0</td>\n",
              "      <td>0</td>\n",
              "      <td>0</td>\n",
              "      <td>0</td>\n",
              "      <td>0</td>\n",
              "      <td>0</td>\n",
              "      <td>0</td>\n",
              "      <td>0</td>\n",
              "      <td>0</td>\n",
              "      <td>0</td>\n",
              "      <td>0</td>\n",
              "      <td>1</td>\n",
              "      <td>0</td>\n",
              "      <td>0</td>\n",
              "      <td>0</td>\n",
              "      <td>0</td>\n",
              "      <td>0</td>\n",
              "      <td>0</td>\n",
              "      <td>0</td>\n",
              "      <td>1</td>\n",
              "      <td>0</td>\n",
              "    </tr>\n",
              "    <tr>\n",
              "      <th>668</th>\n",
              "      <td>13.0</td>\n",
              "      <td>0</td>\n",
              "      <td>0</td>\n",
              "      <td>0</td>\n",
              "      <td>0</td>\n",
              "      <td>0</td>\n",
              "      <td>0</td>\n",
              "      <td>0</td>\n",
              "      <td>0</td>\n",
              "      <td>0</td>\n",
              "      <td>0</td>\n",
              "      <td>0</td>\n",
              "      <td>0</td>\n",
              "      <td>0</td>\n",
              "      <td>0</td>\n",
              "      <td>0</td>\n",
              "      <td>0</td>\n",
              "      <td>0</td>\n",
              "      <td>0</td>\n",
              "      <td>0</td>\n",
              "      <td>1</td>\n",
              "      <td>0</td>\n",
              "      <td>0</td>\n",
              "      <td>0</td>\n",
              "      <td>0</td>\n",
              "      <td>0</td>\n",
              "      <td>0</td>\n",
              "      <td>0</td>\n",
              "      <td>0</td>\n",
              "      <td>0</td>\n",
              "      <td>1</td>\n",
              "      <td>0</td>\n",
              "      <td>0</td>\n",
              "      <td>0</td>\n",
              "      <td>1</td>\n",
              "      <td>0</td>\n",
              "    </tr>\n",
              "    <tr>\n",
              "      <th>779</th>\n",
              "      <td>12.0</td>\n",
              "      <td>0</td>\n",
              "      <td>0</td>\n",
              "      <td>0</td>\n",
              "      <td>0</td>\n",
              "      <td>0</td>\n",
              "      <td>0</td>\n",
              "      <td>0</td>\n",
              "      <td>0</td>\n",
              "      <td>0</td>\n",
              "      <td>0</td>\n",
              "      <td>0</td>\n",
              "      <td>0</td>\n",
              "      <td>0</td>\n",
              "      <td>0</td>\n",
              "      <td>0</td>\n",
              "      <td>0</td>\n",
              "      <td>0</td>\n",
              "      <td>0</td>\n",
              "      <td>0</td>\n",
              "      <td>0</td>\n",
              "      <td>0</td>\n",
              "      <td>0</td>\n",
              "      <td>0</td>\n",
              "      <td>0</td>\n",
              "      <td>0</td>\n",
              "      <td>0</td>\n",
              "      <td>0</td>\n",
              "      <td>0</td>\n",
              "      <td>0</td>\n",
              "      <td>0</td>\n",
              "      <td>0</td>\n",
              "      <td>0</td>\n",
              "      <td>0</td>\n",
              "      <td>0</td>\n",
              "      <td>0</td>\n",
              "    </tr>\n",
              "    <tr>\n",
              "      <th>890</th>\n",
              "      <td>21.0</td>\n",
              "      <td>0</td>\n",
              "      <td>0</td>\n",
              "      <td>0</td>\n",
              "      <td>0</td>\n",
              "      <td>0</td>\n",
              "      <td>0</td>\n",
              "      <td>0</td>\n",
              "      <td>0</td>\n",
              "      <td>0</td>\n",
              "      <td>0</td>\n",
              "      <td>0</td>\n",
              "      <td>0</td>\n",
              "      <td>0</td>\n",
              "      <td>0</td>\n",
              "      <td>0</td>\n",
              "      <td>0</td>\n",
              "      <td>0</td>\n",
              "      <td>0</td>\n",
              "      <td>0</td>\n",
              "      <td>0</td>\n",
              "      <td>0</td>\n",
              "      <td>0</td>\n",
              "      <td>0</td>\n",
              "      <td>0</td>\n",
              "      <td>0</td>\n",
              "      <td>0</td>\n",
              "      <td>0</td>\n",
              "      <td>0</td>\n",
              "      <td>0</td>\n",
              "      <td>0</td>\n",
              "      <td>0</td>\n",
              "      <td>0</td>\n",
              "      <td>0</td>\n",
              "      <td>0</td>\n",
              "      <td>0</td>\n",
              "    </tr>\n",
              "    <tr>\n",
              "      <th>1224</th>\n",
              "      <td>13.0</td>\n",
              "      <td>0</td>\n",
              "      <td>0</td>\n",
              "      <td>0</td>\n",
              "      <td>0</td>\n",
              "      <td>0</td>\n",
              "      <td>0</td>\n",
              "      <td>0</td>\n",
              "      <td>0</td>\n",
              "      <td>0</td>\n",
              "      <td>0</td>\n",
              "      <td>0</td>\n",
              "      <td>0</td>\n",
              "      <td>0</td>\n",
              "      <td>0</td>\n",
              "      <td>0</td>\n",
              "      <td>0</td>\n",
              "      <td>0</td>\n",
              "      <td>0</td>\n",
              "      <td>0</td>\n",
              "      <td>0</td>\n",
              "      <td>0</td>\n",
              "      <td>0</td>\n",
              "      <td>0</td>\n",
              "      <td>0</td>\n",
              "      <td>0</td>\n",
              "      <td>0</td>\n",
              "      <td>0</td>\n",
              "      <td>0</td>\n",
              "      <td>0</td>\n",
              "      <td>0</td>\n",
              "      <td>0</td>\n",
              "      <td>0</td>\n",
              "      <td>0</td>\n",
              "      <td>0</td>\n",
              "      <td>0</td>\n",
              "    </tr>\n",
              "  </tbody>\n",
              "</table>\n",
              "</div>"
            ],
            "text/plain": [
              "      sickness_score  hypertens_False  ...  sex_female  sex_male\n",
              "446             17.0                0  ...           1         0\n",
              "668             13.0                0  ...           1         0\n",
              "779             12.0                0  ...           0         0\n",
              "890             21.0                0  ...           0         0\n",
              "1224            13.0                0  ...           0         0\n",
              "\n",
              "[5 rows x 36 columns]"
            ]
          },
          "metadata": {
            "tags": []
          },
          "execution_count": 60
        }
      ]
    },
    {
      "cell_type": "code",
      "metadata": {
        "id": "MF5ISppj8E5Y",
        "colab": {
          "base_uri": "https://localhost:8080/"
        },
        "outputId": "95de6475-bbcb-42e0-d8c1-18e18762581d"
      },
      "source": [
        "#Linear Regression Process\n",
        "#creating the training and testing models:\n",
        "X_train, X_test, y_train, y_test = train_test_split(patientdata_score.drop(columns=[\"sickness_score\"]), patientdata_score[['sickness_score']]\t, test_size = 0.2)\n",
        "print(X_train.shape, y_train.shape)\n",
        "print(X_test.shape, y_test.shape)\n",
        "\n",
        "#model data using Linear Regression\n",
        "X = X_train\n",
        "y = y_train\n",
        "model = LinearRegression()\n",
        "model.fit(X, y)\n",
        "print(\"The R^2 value is \", model.score(X,y),)\n",
        "print(\"The value of w_0 is \",model.intercept_)\n",
        "# print(\"The coefficient of the linear regression model is \", model.coef_)"
      ],
      "execution_count": null,
      "outputs": [
        {
          "output_type": "stream",
          "text": [
            "(620, 3) (620, 1)\n",
            "(155, 3) (155, 1)\n",
            "The R^2 value is  0.02820733211265325\n",
            "The value of w_0 is  [15.39611891]\n"
          ],
          "name": "stdout"
        }
      ]
    },
    {
      "cell_type": "markdown",
      "metadata": {
        "id": "OjwO8l0QrW9_"
      },
      "source": [
        "#Model 5: Logistics Regression combining components from Model 3"
      ]
    },
    {
      "cell_type": "code",
      "metadata": {
        "id": "hmdulDz6rVh5",
        "colab": {
          "base_uri": "https://localhost:8080/",
          "height": 239
        },
        "outputId": "3d7d71c5-1abe-4ea4-b983-e099d0005906"
      },
      "source": [
        "patientdata7.head()\n",
        "patientdata6.head()\n",
        "\n",
        "#finding number of similar index values:\n",
        "len(patientdata7.index.intersection(patientdata6.index)) #136\n",
        "\n",
        "#merge dataframes by index values:\n",
        "patientdata8 = pd.merge(patientdata7, patientdata6, left_index=True, right_index=True)\n",
        "# patientdata8[[\"age\",\"sex\",\"chronic_disease_binary\",\"sickness_score\"]].dropna().shape\n",
        "# patientdata7 = pd.merge(patientdata6,patientdata_sym_disch, \n",
        "#                         how='left',left_index=True, right_index= True)\n",
        "\n",
        "patientdata8 = patientdata8.drop(columns=[\"ID\",'city','age',\n",
        " 'province',\n",
        " 'country',\n",
        " 'date_onset_symptoms',\n",
        " 'date_admission_hospital',\n",
        " 'date_confirmation',\n",
        " 'symptoms',\n",
        " 'lives_in_Wuhan',\n",
        " 'travel_history_dates',\n",
        " 'travel_history_location',\n",
        " 'reported_market_exposure',\n",
        " 'additional_information',\n",
        " 'chronic_disease_binary',\n",
        " 'chronic_disease',\n",
        " 'date_death_or_discharge',\n",
        " 'notes_for_discussion',\n",
        " 'location',\n",
        " 'country_new',\n",
        " 'travel_history_binary',\n",
        " 'sex',\n",
        " \"outcome_x\",\"difference_between_dates\",\n",
        " \"outcome_y\"\n",
        " ])\n",
        "\n",
        "patientdata8.head()"
      ],
      "execution_count": null,
      "outputs": [
        {
          "output_type": "execute_result",
          "data": {
            "text/html": [
              "<div>\n",
              "<style scoped>\n",
              "    .dataframe tbody tr th:only-of-type {\n",
              "        vertical-align: middle;\n",
              "    }\n",
              "\n",
              "    .dataframe tbody tr th {\n",
              "        vertical-align: top;\n",
              "    }\n",
              "\n",
              "    .dataframe thead th {\n",
              "        text-align: right;\n",
              "    }\n",
              "</style>\n",
              "<table border=\"1\" class=\"dataframe\">\n",
              "  <thead>\n",
              "    <tr style=\"text-align: right;\">\n",
              "      <th></th>\n",
              "      <th>sickness_score</th>\n",
              "      <th>hypertens_False</th>\n",
              "      <th>hypertens_True</th>\n",
              "      <th>diabet_False</th>\n",
              "      <th>diabet_True</th>\n",
              "      <th>diseas_False</th>\n",
              "      <th>diseas_True</th>\n",
              "      <th>chronic_False</th>\n",
              "      <th>chronic_True</th>\n",
              "      <th>kidney_False</th>\n",
              "      <th>kidney_True</th>\n",
              "      <th>acut_False</th>\n",
              "      <th>acut_True</th>\n",
              "      <th>pneumonia_False</th>\n",
              "      <th>pneumonia_True</th>\n",
              "      <th>respiratori_False</th>\n",
              "      <th>distress_False</th>\n",
              "      <th>distress_True</th>\n",
              "      <th>fever_False</th>\n",
              "      <th>fever_True</th>\n",
              "      <th>Bin_Dates_sym_disch_(0, 14]</th>\n",
              "      <th>Bin_Dates_sym_disch_(14, 200]</th>\n",
              "      <th>Bin_Dates_hosp_disch_(0, 14]</th>\n",
              "      <th>Bin_Dates_hosp_disch_(14, 200]</th>\n",
              "      <th>age_bins_(0, 9]</th>\n",
              "      <th>age_bins_(9, 19]</th>\n",
              "      <th>age_bins_(19, 29]</th>\n",
              "      <th>age_bins_(29, 39]</th>\n",
              "      <th>age_bins_(39, 49]</th>\n",
              "      <th>age_bins_(49, 59]</th>\n",
              "      <th>age_bins_(59, 69]</th>\n",
              "      <th>age_bins_(69, 79]</th>\n",
              "      <th>age_bins_(79, 89]</th>\n",
              "      <th>age_bins_(89, 99]</th>\n",
              "      <th>sex_female</th>\n",
              "      <th>sex_male</th>\n",
              "    </tr>\n",
              "  </thead>\n",
              "  <tbody>\n",
              "    <tr>\n",
              "      <th>446</th>\n",
              "      <td>17.0</td>\n",
              "      <td>0</td>\n",
              "      <td>0</td>\n",
              "      <td>0</td>\n",
              "      <td>0</td>\n",
              "      <td>0</td>\n",
              "      <td>0</td>\n",
              "      <td>0</td>\n",
              "      <td>0</td>\n",
              "      <td>0</td>\n",
              "      <td>0</td>\n",
              "      <td>0</td>\n",
              "      <td>0</td>\n",
              "      <td>0</td>\n",
              "      <td>0</td>\n",
              "      <td>0</td>\n",
              "      <td>0</td>\n",
              "      <td>0</td>\n",
              "      <td>0</td>\n",
              "      <td>0</td>\n",
              "      <td>0</td>\n",
              "      <td>0</td>\n",
              "      <td>0</td>\n",
              "      <td>0</td>\n",
              "      <td>0</td>\n",
              "      <td>0</td>\n",
              "      <td>1</td>\n",
              "      <td>0</td>\n",
              "      <td>0</td>\n",
              "      <td>0</td>\n",
              "      <td>0</td>\n",
              "      <td>0</td>\n",
              "      <td>0</td>\n",
              "      <td>0</td>\n",
              "      <td>1</td>\n",
              "      <td>0</td>\n",
              "    </tr>\n",
              "    <tr>\n",
              "      <th>668</th>\n",
              "      <td>13.0</td>\n",
              "      <td>0</td>\n",
              "      <td>0</td>\n",
              "      <td>0</td>\n",
              "      <td>0</td>\n",
              "      <td>0</td>\n",
              "      <td>0</td>\n",
              "      <td>0</td>\n",
              "      <td>0</td>\n",
              "      <td>0</td>\n",
              "      <td>0</td>\n",
              "      <td>0</td>\n",
              "      <td>0</td>\n",
              "      <td>0</td>\n",
              "      <td>0</td>\n",
              "      <td>0</td>\n",
              "      <td>0</td>\n",
              "      <td>0</td>\n",
              "      <td>0</td>\n",
              "      <td>0</td>\n",
              "      <td>1</td>\n",
              "      <td>0</td>\n",
              "      <td>0</td>\n",
              "      <td>0</td>\n",
              "      <td>0</td>\n",
              "      <td>0</td>\n",
              "      <td>0</td>\n",
              "      <td>0</td>\n",
              "      <td>0</td>\n",
              "      <td>0</td>\n",
              "      <td>1</td>\n",
              "      <td>0</td>\n",
              "      <td>0</td>\n",
              "      <td>0</td>\n",
              "      <td>1</td>\n",
              "      <td>0</td>\n",
              "    </tr>\n",
              "    <tr>\n",
              "      <th>779</th>\n",
              "      <td>12.0</td>\n",
              "      <td>0</td>\n",
              "      <td>0</td>\n",
              "      <td>0</td>\n",
              "      <td>0</td>\n",
              "      <td>0</td>\n",
              "      <td>0</td>\n",
              "      <td>0</td>\n",
              "      <td>0</td>\n",
              "      <td>0</td>\n",
              "      <td>0</td>\n",
              "      <td>0</td>\n",
              "      <td>0</td>\n",
              "      <td>0</td>\n",
              "      <td>0</td>\n",
              "      <td>0</td>\n",
              "      <td>0</td>\n",
              "      <td>0</td>\n",
              "      <td>0</td>\n",
              "      <td>0</td>\n",
              "      <td>0</td>\n",
              "      <td>0</td>\n",
              "      <td>0</td>\n",
              "      <td>0</td>\n",
              "      <td>0</td>\n",
              "      <td>0</td>\n",
              "      <td>0</td>\n",
              "      <td>0</td>\n",
              "      <td>0</td>\n",
              "      <td>0</td>\n",
              "      <td>0</td>\n",
              "      <td>0</td>\n",
              "      <td>0</td>\n",
              "      <td>0</td>\n",
              "      <td>0</td>\n",
              "      <td>0</td>\n",
              "    </tr>\n",
              "    <tr>\n",
              "      <th>890</th>\n",
              "      <td>21.0</td>\n",
              "      <td>0</td>\n",
              "      <td>0</td>\n",
              "      <td>0</td>\n",
              "      <td>0</td>\n",
              "      <td>0</td>\n",
              "      <td>0</td>\n",
              "      <td>0</td>\n",
              "      <td>0</td>\n",
              "      <td>0</td>\n",
              "      <td>0</td>\n",
              "      <td>0</td>\n",
              "      <td>0</td>\n",
              "      <td>0</td>\n",
              "      <td>0</td>\n",
              "      <td>0</td>\n",
              "      <td>0</td>\n",
              "      <td>0</td>\n",
              "      <td>0</td>\n",
              "      <td>0</td>\n",
              "      <td>0</td>\n",
              "      <td>0</td>\n",
              "      <td>0</td>\n",
              "      <td>0</td>\n",
              "      <td>0</td>\n",
              "      <td>0</td>\n",
              "      <td>0</td>\n",
              "      <td>0</td>\n",
              "      <td>0</td>\n",
              "      <td>0</td>\n",
              "      <td>0</td>\n",
              "      <td>0</td>\n",
              "      <td>0</td>\n",
              "      <td>0</td>\n",
              "      <td>0</td>\n",
              "      <td>0</td>\n",
              "    </tr>\n",
              "    <tr>\n",
              "      <th>1224</th>\n",
              "      <td>13.0</td>\n",
              "      <td>0</td>\n",
              "      <td>0</td>\n",
              "      <td>0</td>\n",
              "      <td>0</td>\n",
              "      <td>0</td>\n",
              "      <td>0</td>\n",
              "      <td>0</td>\n",
              "      <td>0</td>\n",
              "      <td>0</td>\n",
              "      <td>0</td>\n",
              "      <td>0</td>\n",
              "      <td>0</td>\n",
              "      <td>0</td>\n",
              "      <td>0</td>\n",
              "      <td>0</td>\n",
              "      <td>0</td>\n",
              "      <td>0</td>\n",
              "      <td>0</td>\n",
              "      <td>0</td>\n",
              "      <td>0</td>\n",
              "      <td>0</td>\n",
              "      <td>0</td>\n",
              "      <td>0</td>\n",
              "      <td>0</td>\n",
              "      <td>0</td>\n",
              "      <td>0</td>\n",
              "      <td>0</td>\n",
              "      <td>0</td>\n",
              "      <td>0</td>\n",
              "      <td>0</td>\n",
              "      <td>0</td>\n",
              "      <td>0</td>\n",
              "      <td>0</td>\n",
              "      <td>0</td>\n",
              "      <td>0</td>\n",
              "    </tr>\n",
              "  </tbody>\n",
              "</table>\n",
              "</div>"
            ],
            "text/plain": [
              "      sickness_score  hypertens_False  ...  sex_female  sex_male\n",
              "446             17.0                0  ...           1         0\n",
              "668             13.0                0  ...           1         0\n",
              "779             12.0                0  ...           0         0\n",
              "890             21.0                0  ...           0         0\n",
              "1224            13.0                0  ...           0         0\n",
              "\n",
              "[5 rows x 36 columns]"
            ]
          },
          "metadata": {
            "tags": []
          },
          "execution_count": 61
        }
      ]
    },
    {
      "cell_type": "code",
      "metadata": {
        "id": "y45UaeOEsBbh",
        "colab": {
          "base_uri": "https://localhost:8080/"
        },
        "outputId": "bc3dbb3d-e06f-4fb7-ac26-80a585629c59"
      },
      "source": [
        "patientdata8[\"sickness_score\"].value_counts()\n",
        "patientdata8.dropna(inplace=True)\n",
        "#bin sickness scores:\n",
        "patientdata8['bin_sickness_score'] = pd.cut(x=patientdata8['sickness_score'], \n",
        "                                                  bins=[0,14,33])\n",
        "patientdata8['bin_sickness_score'].value_counts()\n",
        "# patientdata8.head()"
      ],
      "execution_count": null,
      "outputs": [
        {
          "output_type": "execute_result",
          "data": {
            "text/plain": [
              "(0, 14]     87\n",
              "(14, 33]    49\n",
              "Name: bin_sickness_score, dtype: int64"
            ]
          },
          "metadata": {
            "tags": []
          },
          "execution_count": 123
        }
      ]
    },
    {
      "cell_type": "code",
      "metadata": {
        "id": "r8JehJUOt86T",
        "colab": {
          "base_uri": "https://localhost:8080/"
        },
        "outputId": "253475be-143d-4329-da43-abe7b704ceda"
      },
      "source": [
        "#Logistic Regression:\n",
        "# patientdata8[\"outcome\"].replace(\"recovered\",1, inplace= True)\n",
        "# patientdata8[\"outcome\"].replace(\"dead\",0, inplace= True)\n",
        "\n",
        "X = patientdata8.drop(columns=[\"bin_sickness_score\",\"sickness_score\"])\n",
        "y = patientdata8[\"bin_sickness_score\"]\n",
        "y=y.astype('str')\n",
        "\n",
        "#do train test split\n",
        "features = patientdata8.drop([\"bin_sickness_score\",\"sickness_score\"], axis=1) #dropping target from features dataframe so you have only your features \n",
        "features\n",
        "X_train, X_test, y_train, y_test = train_test_split(features,y, random_state=1, test_size = 0.2,stratify=y)\n",
        "print(X_train.shape, y_train.shape)\n",
        "print(X_test.shape, y_test.shape)\n",
        "\n",
        "# #Grid search:\n",
        "#source: https://www.kaggle.com/enespolat/grid-search-with-logistic-regression\n",
        "# from sklearn.model_selection import GridSearchCV\n",
        "# from sklearn.linear_model import LogisticRegression\n",
        "# grid={\"C\":np.logspace(-3,3,7), \"penalty\":[\"l2\"]}# l1 lasso l2 ridge\n",
        "# logreg=LogisticRegression()\n",
        "# logreg_cv=GridSearchCV(logreg,grid,cv=10)\n",
        "# logreg_cv.fit(X_train,y_train)\n",
        "\n",
        "# print(\"tuned hpyerparameters :(best parameters) \",logreg_cv.best_params_)\n",
        "# print(\"accuracy :\",logreg_cv.best_score_)\n",
        "\n",
        "# Scale separately\n",
        "scaler = MinMaxScaler()\n",
        "X_train = scaler.fit_transform(X_train)\n",
        "X_test = scaler.transform(X_test)\n",
        "\n",
        "\n",
        "#initialize the model\n",
        "lm = LogisticRegression(solver='lbfgs',  \n",
        "                           C=100, max_iter=1000000)\n",
        "\n",
        "#fit model\n",
        "lm.fit(X_train, y_train)\n",
        "\n",
        "#find coef and intercept\n",
        "w = lm.coef_\n",
        "w0 = lm.intercept_\n",
        "\n",
        "# print('w =', w)\n",
        "print('w0 =', w0)\n",
        "print(\"Accuracy score: \", lm.score(X_test, y_test)) \n"
      ],
      "execution_count": null,
      "outputs": [
        {
          "output_type": "stream",
          "text": [
            "(108, 35) (108,)\n",
            "(28, 35) (28,)\n",
            "w0 = [-0.63441169]\n",
            "Accuracy score:  0.6071428571428571\n"
          ],
          "name": "stdout"
        }
      ]
    },
    {
      "cell_type": "code",
      "metadata": {
        "id": "uvXiYrptw1Ul",
        "colab": {
          "base_uri": "https://localhost:8080/",
          "height": 902
        },
        "outputId": "ceddbbaa-b5b0-4576-c583-b2bc05225ffb"
      },
      "source": [
        "#Evaluating Model:\n",
        "\n",
        "#Predict labels:\n",
        "y_predict = lm.predict(X_test)\n",
        "print(\"Prediction of y-values: \",y_predict)\n",
        "#confusion matrix\n",
        "cnf_matrix = confusion_matrix(y_test, y_predict)\n",
        "print(\"Confusion matrix: \",cnf_matrix)\n",
        "#classification\n",
        "print(\"Classification report: \",classification_report(y_test, y_predict))\n",
        "\n",
        "pred = lm.predict_proba(X_test)[:,1] #predicting probability\n",
        "pred\n",
        "# print(\"AUC: \", roc_auc_score(y_test, pred))\n",
        "\n",
        "#Analysis (Confusion Matrix):\n",
        "fig, ax = plt.subplots()\n",
        "tick_marks = np.arange(len([\"0\",\"1\"]))\n",
        "plt.xticks(tick_marks, [\"0\",\"1\"])\n",
        "plt.yticks(tick_marks, [\"0\",\"1\"])\n",
        "sns.heatmap(pd.DataFrame(cnf_matrix), annot=True, cmap=None ,fmt='g')\n",
        "ax.xaxis.set_label_position(\"top\")\n",
        "plt.tight_layout()\n",
        "plt.title('Confusion matrix')\n",
        "plt.ylabel('Actual label')\n",
        "plt.xlabel('Predicted label')"
      ],
      "execution_count": null,
      "outputs": [
        {
          "output_type": "stream",
          "text": [
            "Prediction of y-values:  ['(0, 14]' '(0, 14]' '(0, 14]' '(0, 14]' '(0, 14]' '(0, 14]' '(0, 14]'\n",
            " '(0, 14]' '(0, 14]' '(0, 14]' '(0, 14]' '(0, 14]' '(0, 14]' '(0, 14]'\n",
            " '(0, 14]' '(0, 14]' '(0, 14]' '(0, 14]' '(14, 33]' '(0, 14]' '(0, 14]'\n",
            " '(0, 14]' '(0, 14]' '(0, 14]' '(0, 14]' '(0, 14]' '(0, 14]' '(0, 14]']\n",
            "Confusion matrix:  [[17  1]\n",
            " [10  0]]\n",
            "Classification report:                precision    recall  f1-score   support\n",
            "\n",
            "     (0, 14]       0.63      0.94      0.76        18\n",
            "    (14, 33]       0.00      0.00      0.00        10\n",
            "\n",
            "    accuracy                           0.61        28\n",
            "   macro avg       0.31      0.47      0.38        28\n",
            "weighted avg       0.40      0.61      0.49        28\n",
            "\n"
          ],
          "name": "stdout"
        },
        {
          "output_type": "execute_result",
          "data": {
            "text/plain": [
              "Text(0.5, 954.4, 'Predicted label')"
            ]
          },
          "metadata": {
            "tags": []
          },
          "execution_count": 125
        },
        {
          "output_type": "display_data",
          "data": {
            "image/png": "[encoded data removed]",
            "text/plain": [
              "<Figure size 1800x1080 with 2 Axes>"
            ]
          },
          "metadata": {
            "tags": []
          }
        }
      ]
    },
    {
      "cell_type": "markdown",
      "metadata": {
        "id": "_yoFo39DKKqO"
      },
      "source": [
        "# Conclusion"
      ]
    },
    {
      "cell_type": "markdown",
      "metadata": {
        "id": "q9d02glDLSlQ"
      },
      "source": [
        "- **Objectives Restated**:\n",
        " -  To examine up-to-date and unstructured text data for indicators of COVID-19  \n",
        "\n",
        " - To explore the possibility of predicting the outcome of future patients from current COVID-19 patient data  \n",
        "\n",
        " - To consider the potential for applicability in cases of triage practices for future COVID-19 patients  \n",
        "\n",
        " - To determine trends in specific COVID-19 patients over a stated period \n",
        "\n",
        "- **Big Idea Question**: In case a person comes to the hospital and has tested positive for COVID. Based on everything we know, can we make a prediction on whether we should be concerned or not very concerned about them?\n",
        "\n",
        "- **Conclusion**: Using text and dates data, I prepared Logistic Regression and Natural Language Processing models to determine the likelihood that a patient will recover from COVID-19​. \n",
        "\n",
        "\n"
      ]
    },
    {
      "cell_type": "markdown",
      "metadata": {
        "id": "TNQgLYANKsn7"
      },
      "source": [
        "# References"
      ]
    },
    {
      "cell_type": "markdown",
      "metadata": {
        "id": "5KmpXl8GKvft"
      },
      "source": [
        "\n",
        "\n",
        "1.   Data Science and Big Data Analytics: Discovering, Analyzing, Visualizing and Presenting Data (2014)\n",
        "2.   https://towardsdatascience.com/your-guide-to-natural-language-processing-nlp-48ea2511f6e1\n",
        "3.   https://opensource.com/article/19/3/natural-language-processing-tools\n",
        "4. http://www.nltk.org/ \n",
        "7. https://pypi.org/project/textacy/\n",
        "8. https://pytorchnlp.readthedocs.io/en/latest/\n",
        "9. https://www.activestate.com/blog/natural-language-processing-nltk-vs-spacy/ \n",
        "10. https://www.youtube.com/watch?v=5ctbvkAMQO4\n",
        "11. https://www.youtube.com/watch?v=05ONoGfmKvA\n",
        "12. https://computingeverywhere.soc.northwestern.edu/wp-content/uploads/2017/07/Text-Analysis-with-NLTK-Cheatsheet.pdf \n",
        "13. Olof Jacobson & Hercules Dalianis. (2016). _Applying deep learning on electronic health records in Swedish\n",
        "to predict healthcare-associated infections_. Retrieved from https://www.aclweb.org/anthology/W16-2926.pdf \n",
        "14. Thomas H. McCoy et. al. (2015). _A Clinical Perspective on the Relevance of Research Domain Criteria in Electronic Health Records_. Retrieved from https://ajp.psychiatryonline.org/doi/full/10.1176/appi.ajp.2014.14091177\n",
        "15. https://pasterski.com/2014/02/basic-assumptions-nlp/#:~:text=NLP%20also%20assumes%20that%20the,differently%20from%20what%20was%20intended\n",
        "16. https://youtu.be/G4UVJoGFAv0\n",
        "17. https://www.datacamp.com/community/tutorials/text-analytics-beginners-nltk \n"
      ]
    }
  ]
}